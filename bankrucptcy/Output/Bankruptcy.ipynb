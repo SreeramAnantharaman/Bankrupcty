{
 "cells": [
  {
   "cell_type": "markdown",
   "id": "f36f6317",
   "metadata": {},
   "source": [
    "## Company Bankruptcy Prediction"
   ]
  },
  {
   "cell_type": "code",
   "execution_count": 1,
   "id": "cb01d3a8",
   "metadata": {},
   "outputs": [],
   "source": [
    "import numpy as np \n",
    "import pandas as pd "
   ]
  },
  {
   "cell_type": "code",
   "execution_count": 43,
   "id": "1abe4e0f",
   "metadata": {},
   "outputs": [],
   "source": [
    "df=pd.read_csv(\"../data/train.csv\", low_memory=False)"
   ]
  },
  {
   "cell_type": "code",
   "execution_count": 3,
   "id": "c8649ca2",
   "metadata": {},
   "outputs": [
    {
     "data": {
      "text/html": [
       "<div>\n",
       "<style scoped>\n",
       "    .dataframe tbody tr th:only-of-type {\n",
       "        vertical-align: middle;\n",
       "    }\n",
       "\n",
       "    .dataframe tbody tr th {\n",
       "        vertical-align: top;\n",
       "    }\n",
       "\n",
       "    .dataframe thead th {\n",
       "        text-align: right;\n",
       "    }\n",
       "</style>\n",
       "<table border=\"1\" class=\"dataframe\">\n",
       "  <thead>\n",
       "    <tr style=\"text-align: right;\">\n",
       "      <th></th>\n",
       "      <th>id</th>\n",
       "      <th>forecasting period</th>\n",
       "      <th>net_profit_over_total_assets</th>\n",
       "      <th>total_liabilities_over_total_assets</th>\n",
       "      <th>working_capital_over_total_assets</th>\n",
       "      <th>current_assets_over_short_term_liabilities</th>\n",
       "      <th>cash_plus_short_term_securities_plus_receivables_minus_short_term_liabilities_over_operating_expenses_minus_depreciation_times_365</th>\n",
       "      <th>retained_earnings_over_total_assets</th>\n",
       "      <th>EBIT_over_total_assets</th>\n",
       "      <th>book_value_of_equity_over_total_liabilities</th>\n",
       "      <th>...</th>\n",
       "      <th>sales_minus_cost_of_products_sold_over_sales</th>\n",
       "      <th>current_assets_minus_inventory_minus_short_term_liabilities_over_sales_minus_gross_profit_minus_depreciation</th>\n",
       "      <th>total_costs_overtotal_sales</th>\n",
       "      <th>long_term_liabilities_over_equity</th>\n",
       "      <th>sales_over_inventory</th>\n",
       "      <th>sales_over_receivables</th>\n",
       "      <th>short_term_liabilities_times_365_over_sales</th>\n",
       "      <th>sales_over_short_term_liabilities</th>\n",
       "      <th>sales_over_fixed_assets</th>\n",
       "      <th>class</th>\n",
       "    </tr>\n",
       "  </thead>\n",
       "  <tbody>\n",
       "    <tr>\n",
       "      <th>0</th>\n",
       "      <td>0</td>\n",
       "      <td>4</td>\n",
       "      <td>0.141939</td>\n",
       "      <td>0.450292</td>\n",
       "      <td>0.021422</td>\n",
       "      <td>1.052987</td>\n",
       "      <td>-28.529084</td>\n",
       "      <td>0.141934</td>\n",
       "      <td>0.172629</td>\n",
       "      <td>0.990337</td>\n",
       "      <td>...</td>\n",
       "      <td>0.079572</td>\n",
       "      <td>0.318286</td>\n",
       "      <td>0.927687</td>\n",
       "      <td>0.106818</td>\n",
       "      <td>12.941797</td>\n",
       "      <td>10.044585</td>\n",
       "      <td>64.713700</td>\n",
       "      <td>5.626894</td>\n",
       "      <td>3.937064</td>\n",
       "      <td>1</td>\n",
       "    </tr>\n",
       "    <tr>\n",
       "      <th>1</th>\n",
       "      <td>1</td>\n",
       "      <td>4</td>\n",
       "      <td>0.147560</td>\n",
       "      <td>0.234840</td>\n",
       "      <td>0.708335</td>\n",
       "      <td>4.016018</td>\n",
       "      <td>119.445611</td>\n",
       "      <td>0.457090</td>\n",
       "      <td>0.186070</td>\n",
       "      <td>3.206445</td>\n",
       "      <td>...</td>\n",
       "      <td>0.095218</td>\n",
       "      <td>0.195943</td>\n",
       "      <td>0.907056</td>\n",
       "      <td>-0.000029</td>\n",
       "      <td>233.301688</td>\n",
       "      <td>2.747416</td>\n",
       "      <td>36.967435</td>\n",
       "      <td>9.813419</td>\n",
       "      <td>40.567739</td>\n",
       "      <td>0</td>\n",
       "    </tr>\n",
       "    <tr>\n",
       "      <th>2</th>\n",
       "      <td>2</td>\n",
       "      <td>1</td>\n",
       "      <td>-0.024542</td>\n",
       "      <td>0.311544</td>\n",
       "      <td>0.067831</td>\n",
       "      <td>1.255247</td>\n",
       "      <td>-15.019923</td>\n",
       "      <td>-0.657003</td>\n",
       "      <td>-0.024537</td>\n",
       "      <td>2.209000</td>\n",
       "      <td>...</td>\n",
       "      <td>0.109035</td>\n",
       "      <td>-0.035634</td>\n",
       "      <td>0.929825</td>\n",
       "      <td>0.055331</td>\n",
       "      <td>8.589991</td>\n",
       "      <td>5.164738</td>\n",
       "      <td>117.924040</td>\n",
       "      <td>3.098273</td>\n",
       "      <td>1.239711</td>\n",
       "      <td>0</td>\n",
       "    </tr>\n",
       "    <tr>\n",
       "      <th>3</th>\n",
       "      <td>3</td>\n",
       "      <td>2</td>\n",
       "      <td>0.159317</td>\n",
       "      <td>0.777017</td>\n",
       "      <td>0.207431</td>\n",
       "      <td>1.267310</td>\n",
       "      <td>-4.892918</td>\n",
       "      <td>-0.000005</td>\n",
       "      <td>0.159321</td>\n",
       "      <td>0.288177</td>\n",
       "      <td>...</td>\n",
       "      <td>0.102971</td>\n",
       "      <td>0.714528</td>\n",
       "      <td>0.937895</td>\n",
       "      <td>-0.000077</td>\n",
       "      <td>9.928221</td>\n",
       "      <td>5.912786</td>\n",
       "      <td>123.752610</td>\n",
       "      <td>2.946008</td>\n",
       "      <td>130.208321</td>\n",
       "      <td>0</td>\n",
       "    </tr>\n",
       "    <tr>\n",
       "      <th>4</th>\n",
       "      <td>4</td>\n",
       "      <td>4</td>\n",
       "      <td>0.004404</td>\n",
       "      <td>0.577419</td>\n",
       "      <td>-0.104435</td>\n",
       "      <td>0.786225</td>\n",
       "      <td>-116.911618</td>\n",
       "      <td>0.056561</td>\n",
       "      <td>0.004249</td>\n",
       "      <td>0.692166</td>\n",
       "      <td>...</td>\n",
       "      <td>0.016446</td>\n",
       "      <td>0.011019</td>\n",
       "      <td>0.979425</td>\n",
       "      <td>0.221335</td>\n",
       "      <td>5.099541</td>\n",
       "      <td>6.890130</td>\n",
       "      <td>166.761980</td>\n",
       "      <td>2.189705</td>\n",
       "      <td>1.740353</td>\n",
       "      <td>0</td>\n",
       "    </tr>\n",
       "  </tbody>\n",
       "</table>\n",
       "<p>5 rows × 67 columns</p>\n",
       "</div>"
      ],
      "text/plain": [
       "   id  forecasting period  net_profit_over_total_assets  \\\n",
       "0   0                   4                      0.141939   \n",
       "1   1                   4                      0.147560   \n",
       "2   2                   1                     -0.024542   \n",
       "3   3                   2                      0.159317   \n",
       "4   4                   4                      0.004404   \n",
       "\n",
       "   total_liabilities_over_total_assets  working_capital_over_total_assets  \\\n",
       "0                             0.450292                           0.021422   \n",
       "1                             0.234840                           0.708335   \n",
       "2                             0.311544                           0.067831   \n",
       "3                             0.777017                           0.207431   \n",
       "4                             0.577419                          -0.104435   \n",
       "\n",
       "   current_assets_over_short_term_liabilities  \\\n",
       "0                                    1.052987   \n",
       "1                                    4.016018   \n",
       "2                                    1.255247   \n",
       "3                                    1.267310   \n",
       "4                                    0.786225   \n",
       "\n",
       "   cash_plus_short_term_securities_plus_receivables_minus_short_term_liabilities_over_operating_expenses_minus_depreciation_times_365  \\\n",
       "0                                         -28.529084                                                                                    \n",
       "1                                         119.445611                                                                                    \n",
       "2                                         -15.019923                                                                                    \n",
       "3                                          -4.892918                                                                                    \n",
       "4                                        -116.911618                                                                                    \n",
       "\n",
       "   retained_earnings_over_total_assets  EBIT_over_total_assets  \\\n",
       "0                             0.141934                0.172629   \n",
       "1                             0.457090                0.186070   \n",
       "2                            -0.657003               -0.024537   \n",
       "3                            -0.000005                0.159321   \n",
       "4                             0.056561                0.004249   \n",
       "\n",
       "   book_value_of_equity_over_total_liabilities  ...  \\\n",
       "0                                     0.990337  ...   \n",
       "1                                     3.206445  ...   \n",
       "2                                     2.209000  ...   \n",
       "3                                     0.288177  ...   \n",
       "4                                     0.692166  ...   \n",
       "\n",
       "   sales_minus_cost_of_products_sold_over_sales  \\\n",
       "0                                      0.079572   \n",
       "1                                      0.095218   \n",
       "2                                      0.109035   \n",
       "3                                      0.102971   \n",
       "4                                      0.016446   \n",
       "\n",
       "   current_assets_minus_inventory_minus_short_term_liabilities_over_sales_minus_gross_profit_minus_depreciation  \\\n",
       "0                                           0.318286                                                              \n",
       "1                                           0.195943                                                              \n",
       "2                                          -0.035634                                                              \n",
       "3                                           0.714528                                                              \n",
       "4                                           0.011019                                                              \n",
       "\n",
       "   total_costs_overtotal_sales  long_term_liabilities_over_equity  \\\n",
       "0                     0.927687                           0.106818   \n",
       "1                     0.907056                          -0.000029   \n",
       "2                     0.929825                           0.055331   \n",
       "3                     0.937895                          -0.000077   \n",
       "4                     0.979425                           0.221335   \n",
       "\n",
       "   sales_over_inventory  sales_over_receivables  \\\n",
       "0             12.941797               10.044585   \n",
       "1            233.301688                2.747416   \n",
       "2              8.589991                5.164738   \n",
       "3              9.928221                5.912786   \n",
       "4              5.099541                6.890130   \n",
       "\n",
       "   short_term_liabilities_times_365_over_sales  \\\n",
       "0                                    64.713700   \n",
       "1                                    36.967435   \n",
       "2                                   117.924040   \n",
       "3                                   123.752610   \n",
       "4                                   166.761980   \n",
       "\n",
       "   sales_over_short_term_liabilities  sales_over_fixed_assets  class  \n",
       "0                           5.626894                 3.937064      1  \n",
       "1                           9.813419                40.567739      0  \n",
       "2                           3.098273                 1.239711      0  \n",
       "3                           2.946008               130.208321      0  \n",
       "4                           2.189705                 1.740353      0  \n",
       "\n",
       "[5 rows x 67 columns]"
      ]
     },
     "execution_count": 3,
     "metadata": {},
     "output_type": "execute_result"
    }
   ],
   "source": [
    "train = df.apply(pd.to_numeric, errors='coerce')\n",
    "train.head()"
   ]
  },
  {
   "cell_type": "code",
   "execution_count": 4,
   "id": "bd7ea80d",
   "metadata": {},
   "outputs": [
    {
     "data": {
      "text/plain": [
       "Index(['id', 'forecasting period', 'net_profit_over_total_assets',\n",
       "       'total_liabilities_over_total_assets',\n",
       "       'working_capital_over_total_assets',\n",
       "       'current_assets_over_short_term_liabilities',\n",
       "       'cash_plus_short_term_securities_plus_receivables_minus_short_term_liabilities_over_operating_expenses_minus_depreciation_times_365',\n",
       "       'retained_earnings_over_total_assets', 'EBIT_over_total_assets',\n",
       "       'book_value_of_equity_over_total_liabilities',\n",
       "       'sales_over_total_assets', 'equity_over_total_assets',\n",
       "       'gross_profit_plus_extraordinary_items_plus_financial_expenses_over_total_assets',\n",
       "       'gross_profit_over_short_term_liabilities',\n",
       "       'gross_profit_plus_depreciation_over_sales',\n",
       "       'gross_profit_plus_interest_over_total_assets',\n",
       "       'total_liabilities_times_365_over_gross_profit_plus_depreciation',\n",
       "       'gross_profit_plus_depreciation_over_total_liabilities',\n",
       "       'total_assets_over_total_liabilities', 'gross_profit_over_total_assets',\n",
       "       'gross_profit_over_sales', 'inventory_times_365_over_sales',\n",
       "       'sales_n_over_sales_n_minus_1',\n",
       "       'profit_on_operating_activities_over_total_assets',\n",
       "       'net_profit_over_sales', 'gross_profit_in_3_years_over_total_assets',\n",
       "       'equity_minus_share_capital_over_total_assets',\n",
       "       'net_profit_plus_depreciation_over_total_liabilities',\n",
       "       'profit_on_operating_activities_over_financial_expenses',\n",
       "       'working_capital_over_fixed_assets', 'logarithm_of_total_assets',\n",
       "       'total_liabilities_minus_cash_over_sales',\n",
       "       'gross_profit_plus_interest_over_sales',\n",
       "       'current_liabilities_times_365_over_cost_of_products_sold',\n",
       "       'operating_expenses_over_short_term_liabilities',\n",
       "       'operating_expenses_over_total_liabilities',\n",
       "       'profit_on_sales_over_total_assets', 'total_sales_over_total_assets',\n",
       "       'current_assets_minus_inventories_over_long_term_liabilities',\n",
       "       'constant_capital_over_total_assets', 'profit_on_sales_over_sales',\n",
       "       'current_assets_minus_inventory_minus_receivables_over_short_term_liabilities',\n",
       "       'total_liabilities_over_profit_on_operating_activities_plus_depreciation_times_12_over_365',\n",
       "       'profit_on_operating_activities_over_sales',\n",
       "       'rotation_receivables_plus_inventory_turnover_in_days',\n",
       "       'receivables_times_365_over_sales', 'net_profit_over_inventory',\n",
       "       'current_assets_minus_inventory_over_short_term_liabilities',\n",
       "       'inventory_times_365_over_cost_of_products_sold',\n",
       "       'EBITDA_profit_on_operating_activities_minus_depreciation_over_total_assets',\n",
       "       'EBITDA_profit_on_operating_activities_minus_depreciation_over_sales',\n",
       "       'current_assets_over_total_liabilities',\n",
       "       'short_term_liabilities_over_total_assets',\n",
       "       'short_term_liabilities_times_365_over_cost_of_products_sold',\n",
       "       'equity_over_fixed_assets', 'constant_capital_over_fixed_assets',\n",
       "       'working_capital', 'sales_minus_cost_of_products_sold_over_sales',\n",
       "       'current_assets_minus_inventory_minus_short_term_liabilities_over_sales_minus_gross_profit_minus_depreciation',\n",
       "       'total_costs_overtotal_sales', 'long_term_liabilities_over_equity',\n",
       "       'sales_over_inventory', 'sales_over_receivables',\n",
       "       'short_term_liabilities_times_365_over_sales',\n",
       "       'sales_over_short_term_liabilities', 'sales_over_fixed_assets',\n",
       "       'class'],\n",
       "      dtype='object')"
      ]
     },
     "execution_count": 4,
     "metadata": {},
     "output_type": "execute_result"
    }
   ],
   "source": [
    "train.columns"
   ]
  },
  {
   "cell_type": "markdown",
   "id": "04bfc4b9",
   "metadata": {},
   "source": [
    "### Exploratory Analysis for Variables"
   ]
  },
  {
   "cell_type": "code",
   "execution_count": 5,
   "id": "e6542b78",
   "metadata": {
    "scrolled": true
   },
   "outputs": [
    {
     "name": "stdout",
     "output_type": "stream",
     "text": [
      "<class 'pandas.core.frame.DataFrame'>\n",
      "RangeIndex: 25121 entries, 0 to 25120\n",
      "Data columns (total 67 columns):\n",
      " #   Column                                                                                                                              Non-Null Count  Dtype  \n",
      "---  ------                                                                                                                              --------------  -----  \n",
      " 0   id                                                                                                                                  25121 non-null  int64  \n",
      " 1   forecasting period                                                                                                                  25121 non-null  int64  \n",
      " 2   net_profit_over_total_assets                                                                                                        25118 non-null  float64\n",
      " 3   total_liabilities_over_total_assets                                                                                                 25118 non-null  float64\n",
      " 4   working_capital_over_total_assets                                                                                                   25118 non-null  float64\n",
      " 5   current_assets_over_short_term_liabilities                                                                                          25043 non-null  float64\n",
      " 6   cash_plus_short_term_securities_plus_receivables_minus_short_term_liabilities_over_operating_expenses_minus_depreciation_times_365  25064 non-null  float64\n",
      " 7   retained_earnings_over_total_assets                                                                                                 25118 non-null  float64\n",
      " 8   EBIT_over_total_assets                                                                                                              25118 non-null  float64\n",
      " 9   book_value_of_equity_over_total_liabilities                                                                                         25072 non-null  float64\n",
      " 10  sales_over_total_assets                                                                                                             25114 non-null  float64\n",
      " 11  equity_over_total_assets                                                                                                            25118 non-null  float64\n",
      " 12  gross_profit_plus_extraordinary_items_plus_financial_expenses_over_total_assets                                                     25095 non-null  float64\n",
      " 13  gross_profit_over_short_term_liabilities                                                                                            25043 non-null  float64\n",
      " 14  gross_profit_plus_depreciation_over_sales                                                                                           25044 non-null  float64\n",
      " 15  gross_profit_plus_interest_over_total_assets                                                                                        25118 non-null  float64\n",
      " 16  total_liabilities_times_365_over_gross_profit_plus_depreciation                                                                     25099 non-null  float64\n",
      " 17  gross_profit_plus_depreciation_over_total_liabilities                                                                               25071 non-null  float64\n",
      " 18  total_assets_over_total_liabilities                                                                                                 25072 non-null  float64\n",
      " 19  gross_profit_over_total_assets                                                                                                      25118 non-null  float64\n",
      " 20  gross_profit_over_sales                                                                                                             25043 non-null  float64\n",
      " 21  inventory_times_365_over_sales                                                                                                      25044 non-null  float64\n",
      " 22  sales_n_over_sales_n_minus_1                                                                                                        21210 non-null  float64\n",
      " 23  profit_on_operating_activities_over_total_assets                                                                                    25118 non-null  float64\n",
      " 24  net_profit_over_sales                                                                                                               25044 non-null  float64\n",
      " 25  gross_profit_in_3_years_over_total_assets                                                                                           24599 non-null  float64\n",
      " 26  equity_minus_share_capital_over_total_assets                                                                                        25118 non-null  float64\n",
      " 27  net_profit_plus_depreciation_over_total_liabilities                                                                                 25071 non-null  float64\n",
      " 28  profit_on_operating_activities_over_financial_expenses                                                                              23521 non-null  float64\n",
      " 29  working_capital_over_fixed_assets                                                                                                   24630 non-null  float64\n",
      " 30  logarithm_of_total_assets                                                                                                           25118 non-null  float64\n",
      " 31  total_liabilities_minus_cash_over_sales                                                                                             25044 non-null  float64\n",
      " 32  gross_profit_plus_interest_over_sales                                                                                               25044 non-null  float64\n",
      " 33  current_liabilities_times_365_over_cost_of_products_sold                                                                            24897 non-null  float64\n",
      " 34  operating_expenses_over_short_term_liabilities                                                                                      25043 non-null  float64\n",
      " 35  operating_expenses_over_total_liabilities                                                                                           25072 non-null  float64\n",
      " 36  profit_on_sales_over_total_assets                                                                                                   25118 non-null  float64\n",
      " 37  total_sales_over_total_assets                                                                                                       25118 non-null  float64\n",
      " 38  current_assets_minus_inventories_over_long_term_liabilities                                                                         13968 non-null  float64\n",
      " 39  constant_capital_over_total_assets                                                                                                  25118 non-null  float64\n",
      " 40  profit_on_sales_over_sales                                                                                                          25044 non-null  float64\n",
      " 41  current_assets_minus_inventory_minus_receivables_over_short_term_liabilities                                                        25043 non-null  float64\n",
      " 42  total_liabilities_over_profit_on_operating_activities_plus_depreciation_times_12_over_365                                           24664 non-null  float64\n",
      " 43  profit_on_operating_activities_over_sales                                                                                           25044 non-null  float64\n",
      " 44  rotation_receivables_plus_inventory_turnover_in_days                                                                                25044 non-null  float64\n",
      " 45  receivables_times_365_over_sales                                                                                                    25044 non-null  float64\n",
      " 46  net_profit_over_inventory                                                                                                           23842 non-null  float64\n",
      " 47  current_assets_minus_inventory_over_short_term_liabilities                                                                          25042 non-null  float64\n",
      " 48  inventory_times_365_over_cost_of_products_sold                                                                                      24937 non-null  float64\n",
      " 49  EBITDA_profit_on_operating_activities_minus_depreciation_over_total_assets                                                          25117 non-null  float64\n",
      " 50  EBITDA_profit_on_operating_activities_minus_depreciation_over_sales                                                                 25044 non-null  float64\n",
      " 51  current_assets_over_total_liabilities                                                                                               25072 non-null  float64\n",
      " 52  short_term_liabilities_over_total_assets                                                                                            25118 non-null  float64\n",
      " 53  short_term_liabilities_times_365_over_cost_of_products_sold                                                                         24936 non-null  float64\n",
      " 54  equity_over_fixed_assets                                                                                                            24630 non-null  float64\n",
      " 55  constant_capital_over_fixed_assets                                                                                                  24630 non-null  float64\n",
      " 56  working_capital                                                                                                                     25120 non-null  float64\n",
      " 57  sales_minus_cost_of_products_sold_over_sales                                                                                        25044 non-null  float64\n",
      " 58  current_assets_minus_inventory_minus_short_term_liabilities_over_sales_minus_gross_profit_minus_depreciation                        25118 non-null  float64\n",
      " 59  total_costs_overtotal_sales                                                                                                         25068 non-null  float64\n",
      " 60  long_term_liabilities_over_equity                                                                                                   25118 non-null  float64\n",
      " 61  sales_over_inventory                                                                                                                23839 non-null  float64\n",
      " 62  sales_over_receivables                                                                                                              25064 non-null  float64\n",
      " 63  short_term_liabilities_times_365_over_sales                                                                                         25044 non-null  float64\n",
      " 64  sales_over_short_term_liabilities                                                                                                   25043 non-null  float64\n",
      " 65  sales_over_fixed_assets                                                                                                             24630 non-null  float64\n",
      " 66  class                                                                                                                               25121 non-null  int64  \n",
      "dtypes: float64(64), int64(3)\n",
      "memory usage: 12.8 MB\n"
     ]
    }
   ],
   "source": [
    "train.info()"
   ]
  },
  {
   "cell_type": "markdown",
   "id": "ddc067c8",
   "metadata": {},
   "source": [
    "#### Dependent Variable"
   ]
  },
  {
   "cell_type": "code",
   "execution_count": 6,
   "id": "45e59b17",
   "metadata": {},
   "outputs": [
    {
     "data": {
      "text/plain": [
       "0"
      ]
     },
     "execution_count": 6,
     "metadata": {},
     "output_type": "execute_result"
    }
   ],
   "source": [
    "sum(train[\"class\"].isna())"
   ]
  },
  {
   "cell_type": "code",
   "execution_count": 7,
   "id": "709ba77f",
   "metadata": {
    "scrolled": true
   },
   "outputs": [
    {
     "data": {
      "text/plain": [
       "0"
      ]
     },
     "execution_count": 7,
     "metadata": {},
     "output_type": "execute_result"
    }
   ],
   "source": [
    "sum(train[\"class\"].isnull())"
   ]
  },
  {
   "cell_type": "markdown",
   "id": "131f6279",
   "metadata": {},
   "source": [
    "So clearly there is no missing values in the dependent variable."
   ]
  },
  {
   "cell_type": "code",
   "execution_count": 8,
   "id": "ae5e8759",
   "metadata": {},
   "outputs": [
    {
     "data": {
      "text/plain": [
       "array([1, 0], dtype=int64)"
      ]
     },
     "execution_count": 8,
     "metadata": {},
     "output_type": "execute_result"
    }
   ],
   "source": [
    "train[\"class\"].unique() ## checking for unique values"
   ]
  },
  {
   "cell_type": "code",
   "execution_count": 9,
   "id": "31ff0c0f",
   "metadata": {},
   "outputs": [
    {
     "data": {
      "text/html": [
       "<div>\n",
       "<style scoped>\n",
       "    .dataframe tbody tr th:only-of-type {\n",
       "        vertical-align: middle;\n",
       "    }\n",
       "\n",
       "    .dataframe tbody tr th {\n",
       "        vertical-align: top;\n",
       "    }\n",
       "\n",
       "    .dataframe thead th {\n",
       "        text-align: right;\n",
       "    }\n",
       "</style>\n",
       "<table border=\"1\" class=\"dataframe\">\n",
       "  <thead>\n",
       "    <tr style=\"text-align: right;\">\n",
       "      <th></th>\n",
       "      <th>class</th>\n",
       "    </tr>\n",
       "    <tr>\n",
       "      <th>class</th>\n",
       "      <th></th>\n",
       "    </tr>\n",
       "  </thead>\n",
       "  <tbody>\n",
       "    <tr>\n",
       "      <th>0</th>\n",
       "      <td>23995</td>\n",
       "    </tr>\n",
       "    <tr>\n",
       "      <th>1</th>\n",
       "      <td>1126</td>\n",
       "    </tr>\n",
       "  </tbody>\n",
       "</table>\n",
       "</div>"
      ],
      "text/plain": [
       "       class\n",
       "class       \n",
       "0      23995\n",
       "1       1126"
      ]
     },
     "execution_count": 9,
     "metadata": {},
     "output_type": "execute_result"
    }
   ],
   "source": [
    "train.groupby(['class'])[['class']].count()"
   ]
  },
  {
   "cell_type": "code",
   "execution_count": 10,
   "id": "5c2dd5e1",
   "metadata": {},
   "outputs": [
    {
     "data": {
      "text/plain": [
       "0.0448"
      ]
     },
     "execution_count": 10,
     "metadata": {},
     "output_type": "execute_result"
    }
   ],
   "source": [
    "round(len(train[\"class\"][train[\"class\"] == 1])/len(train[\"class\"]), 4) ## Percentage of Bankruptcy Cases"
   ]
  },
  {
   "cell_type": "code",
   "execution_count": 11,
   "id": "45dd5edc",
   "metadata": {},
   "outputs": [
    {
     "data": {
      "text/plain": [
       "0.0469"
      ]
     },
     "execution_count": 11,
     "metadata": {},
     "output_type": "execute_result"
    }
   ],
   "source": [
    "round(len(train[\"class\"][train[\"class\"] == 1])/len(train[\"class\"][train[\"class\"] == 0]), 4) ## Odds Ratio"
   ]
  },
  {
   "cell_type": "markdown",
   "id": "48393ee4",
   "metadata": {},
   "source": [
    "The total number of Bankruptcy cases is 1126 and it comprises 0.0448 percentage of the whole data."
   ]
  },
  {
   "cell_type": "markdown",
   "id": "2c4f2039",
   "metadata": {},
   "source": [
    "### Missing value imputation"
   ]
  },
  {
   "cell_type": "code",
   "execution_count": 12,
   "id": "753c2288",
   "metadata": {},
   "outputs": [
    {
     "data": {
      "text/plain": [
       "current_assets_minus_inventories_over_long_term_liabilities    11153\n",
       "sales_n_over_sales_n_minus_1                                    3911\n",
       "profit_on_operating_activities_over_financial_expenses          1600\n",
       "sales_over_inventory                                            1282\n",
       "net_profit_over_inventory                                       1279\n",
       "                                                               ...  \n",
       "equity_over_total_assets                                           3\n",
       "working_capital                                                    1\n",
       "id                                                                 0\n",
       "forecasting period                                                 0\n",
       "class                                                              0\n",
       "Length: 67, dtype: int64"
      ]
     },
     "execution_count": 12,
     "metadata": {},
     "output_type": "execute_result"
    }
   ],
   "source": [
    "train.isna().sum().sort_values(ascending=False)"
   ]
  },
  {
   "cell_type": "code",
   "execution_count": 13,
   "id": "296428f6",
   "metadata": {},
   "outputs": [],
   "source": [
    "for i in train:\n",
    "    train.loc[train.loc[:,i].isnull(),i]=train.loc[:,i].mean()"
   ]
  },
  {
   "cell_type": "code",
   "execution_count": 14,
   "id": "262e7052",
   "metadata": {},
   "outputs": [
    {
     "data": {
      "text/plain": [
       "id                                                                     0\n",
       "EBITDA_profit_on_operating_activities_minus_depreciation_over_sales    0\n",
       "profit_on_sales_over_total_assets                                      0\n",
       "total_sales_over_total_assets                                          0\n",
       "current_assets_minus_inventories_over_long_term_liabilities            0\n",
       "                                                                      ..\n",
       "profit_on_operating_activities_over_financial_expenses                 0\n",
       "working_capital_over_fixed_assets                                      0\n",
       "logarithm_of_total_assets                                              0\n",
       "total_liabilities_minus_cash_over_sales                                0\n",
       "class                                                                  0\n",
       "Length: 67, dtype: int64"
      ]
     },
     "execution_count": 14,
     "metadata": {},
     "output_type": "execute_result"
    }
   ],
   "source": [
    "train.isna().sum().sort_values(ascending=False)"
   ]
  },
  {
   "cell_type": "markdown",
   "id": "36c1d907",
   "metadata": {},
   "source": [
    "We can see that almost all of the columns has missing values. So before we proceed with the analysis we have to impute these values."
   ]
  },
  {
   "cell_type": "code",
   "execution_count": 15,
   "id": "6a925e33",
   "metadata": {},
   "outputs": [
    {
     "data": {
      "text/html": [
       "<div>\n",
       "<style scoped>\n",
       "    .dataframe tbody tr th:only-of-type {\n",
       "        vertical-align: middle;\n",
       "    }\n",
       "\n",
       "    .dataframe tbody tr th {\n",
       "        vertical-align: top;\n",
       "    }\n",
       "\n",
       "    .dataframe thead th {\n",
       "        text-align: right;\n",
       "    }\n",
       "</style>\n",
       "<table border=\"1\" class=\"dataframe\">\n",
       "  <thead>\n",
       "    <tr style=\"text-align: right;\">\n",
       "      <th></th>\n",
       "      <th>id</th>\n",
       "      <th>forecasting period</th>\n",
       "      <th>net_profit_over_total_assets</th>\n",
       "      <th>total_liabilities_over_total_assets</th>\n",
       "      <th>working_capital_over_total_assets</th>\n",
       "      <th>current_assets_over_short_term_liabilities</th>\n",
       "      <th>cash_plus_short_term_securities_plus_receivables_minus_short_term_liabilities_over_operating_expenses_minus_depreciation_times_365</th>\n",
       "      <th>retained_earnings_over_total_assets</th>\n",
       "      <th>EBIT_over_total_assets</th>\n",
       "      <th>book_value_of_equity_over_total_liabilities</th>\n",
       "      <th>...</th>\n",
       "      <th>sales_minus_cost_of_products_sold_over_sales</th>\n",
       "      <th>current_assets_minus_inventory_minus_short_term_liabilities_over_sales_minus_gross_profit_minus_depreciation</th>\n",
       "      <th>total_costs_overtotal_sales</th>\n",
       "      <th>long_term_liabilities_over_equity</th>\n",
       "      <th>sales_over_inventory</th>\n",
       "      <th>sales_over_receivables</th>\n",
       "      <th>short_term_liabilities_times_365_over_sales</th>\n",
       "      <th>sales_over_short_term_liabilities</th>\n",
       "      <th>sales_over_fixed_assets</th>\n",
       "      <th>class</th>\n",
       "    </tr>\n",
       "  </thead>\n",
       "  <tbody>\n",
       "    <tr>\n",
       "      <th>count</th>\n",
       "      <td>25121.000000</td>\n",
       "      <td>25121.000000</td>\n",
       "      <td>25121.000000</td>\n",
       "      <td>25121.000000</td>\n",
       "      <td>25121.000000</td>\n",
       "      <td>25121.000000</td>\n",
       "      <td>2.512100e+04</td>\n",
       "      <td>25121.000000</td>\n",
       "      <td>25121.000000</td>\n",
       "      <td>25121.000000</td>\n",
       "      <td>...</td>\n",
       "      <td>25121.000000</td>\n",
       "      <td>25121.000000</td>\n",
       "      <td>25121.000000</td>\n",
       "      <td>25121.000000</td>\n",
       "      <td>2.512100e+04</td>\n",
       "      <td>25121.000000</td>\n",
       "      <td>2.512100e+04</td>\n",
       "      <td>25121.000000</td>\n",
       "      <td>25121.000000</td>\n",
       "      <td>25121.000000</td>\n",
       "    </tr>\n",
       "    <tr>\n",
       "      <th>mean</th>\n",
       "      <td>12560.000000</td>\n",
       "      <td>2.608574</td>\n",
       "      <td>0.046883</td>\n",
       "      <td>0.611913</td>\n",
       "      <td>0.098553</td>\n",
       "      <td>6.285753</td>\n",
       "      <td>-9.125936e+01</td>\n",
       "      <td>-0.067728</td>\n",
       "      <td>0.147535</td>\n",
       "      <td>15.153162</td>\n",
       "      <td>...</td>\n",
       "      <td>-0.770713</td>\n",
       "      <td>0.098693</td>\n",
       "      <td>4.429418</td>\n",
       "      <td>1.597135</td>\n",
       "      <td>3.225273e+02</td>\n",
       "      <td>14.315634</td>\n",
       "      <td>7.394522e+02</td>\n",
       "      <td>9.835042</td>\n",
       "      <td>77.756289</td>\n",
       "      <td>0.044823</td>\n",
       "    </tr>\n",
       "    <tr>\n",
       "      <th>std</th>\n",
       "      <td>7251.952392</td>\n",
       "      <td>1.063099</td>\n",
       "      <td>1.821587</td>\n",
       "      <td>5.933092</td>\n",
       "      <td>5.907783</td>\n",
       "      <td>339.445391</td>\n",
       "      <td>1.826400e+04</td>\n",
       "      <td>6.872710</td>\n",
       "      <td>5.834939</td>\n",
       "      <td>610.876764</td>\n",
       "      <td>...</td>\n",
       "      <td>72.865215</td>\n",
       "      <td>10.380340</td>\n",
       "      <td>382.939320</td>\n",
       "      <td>152.432060</td>\n",
       "      <td>1.565162e+04</td>\n",
       "      <td>120.698050</td>\n",
       "      <td>5.618732e+04</td>\n",
       "      <td>154.435943</td>\n",
       "      <td>2667.820214</td>\n",
       "      <td>0.206919</td>\n",
       "    </tr>\n",
       "    <tr>\n",
       "      <th>min</th>\n",
       "      <td>0.000000</td>\n",
       "      <td>1.000000</td>\n",
       "      <td>-256.889998</td>\n",
       "      <td>-72.162006</td>\n",
       "      <td>-479.959994</td>\n",
       "      <td>-0.044851</td>\n",
       "      <td>-1.670200e+06</td>\n",
       "      <td>-508.409992</td>\n",
       "      <td>-189.559992</td>\n",
       "      <td>-141.410220</td>\n",
       "      <td>...</td>\n",
       "      <td>-8534.599415</td>\n",
       "      <td>-979.250019</td>\n",
       "      <td>-1.631820</td>\n",
       "      <td>-327.970143</td>\n",
       "      <td>-4.066151e-02</td>\n",
       "      <td>-12.655400</td>\n",
       "      <td>-2.336500e+06</td>\n",
       "      <td>-0.367905</td>\n",
       "      <td>-10677.001615</td>\n",
       "      <td>0.000000</td>\n",
       "    </tr>\n",
       "    <tr>\n",
       "      <th>25%</th>\n",
       "      <td>6280.000000</td>\n",
       "      <td>2.000000</td>\n",
       "      <td>0.003354</td>\n",
       "      <td>0.271085</td>\n",
       "      <td>0.016667</td>\n",
       "      <td>1.039445</td>\n",
       "      <td>-5.106407e+01</td>\n",
       "      <td>-0.000010</td>\n",
       "      <td>0.005652</td>\n",
       "      <td>0.423195</td>\n",
       "      <td>...</td>\n",
       "      <td>0.008373</td>\n",
       "      <td>0.015153</td>\n",
       "      <td>0.875789</td>\n",
       "      <td>-0.000002</td>\n",
       "      <td>5.797468e+00</td>\n",
       "      <td>4.542071</td>\n",
       "      <td>4.166776e+01</td>\n",
       "      <td>3.105896</td>\n",
       "      <td>2.218706</td>\n",
       "      <td>0.000000</td>\n",
       "    </tr>\n",
       "    <tr>\n",
       "      <th>50%</th>\n",
       "      <td>12560.000000</td>\n",
       "      <td>3.000000</td>\n",
       "      <td>0.049838</td>\n",
       "      <td>0.476985</td>\n",
       "      <td>0.191632</td>\n",
       "      <td>1.557344</td>\n",
       "      <td>-1.874916e+00</td>\n",
       "      <td>0.000003</td>\n",
       "      <td>0.060084</td>\n",
       "      <td>1.054305</td>\n",
       "      <td>...</td>\n",
       "      <td>0.052521</td>\n",
       "      <td>0.122504</td>\n",
       "      <td>0.951085</td>\n",
       "      <td>0.005201</td>\n",
       "      <td>1.062085e+01</td>\n",
       "      <td>6.749773</td>\n",
       "      <td>7.116951e+01</td>\n",
       "      <td>5.133577</td>\n",
       "      <td>4.460347</td>\n",
       "      <td>0.000000</td>\n",
       "    </tr>\n",
       "    <tr>\n",
       "      <th>75%</th>\n",
       "      <td>18840.000000</td>\n",
       "      <td>4.000000</td>\n",
       "      <td>0.131410</td>\n",
       "      <td>0.693518</td>\n",
       "      <td>0.401742</td>\n",
       "      <td>2.784023</td>\n",
       "      <td>5.105802e+01</td>\n",
       "      <td>0.085011</td>\n",
       "      <td>0.153183</td>\n",
       "      <td>2.606133</td>\n",
       "      <td>...</td>\n",
       "      <td>0.128879</td>\n",
       "      <td>0.293659</td>\n",
       "      <td>0.993312</td>\n",
       "      <td>0.242058</td>\n",
       "      <td>2.469057e+01</td>\n",
       "      <td>10.652195</td>\n",
       "      <td>1.175783e+02</td>\n",
       "      <td>8.767945</td>\n",
       "      <td>10.631476</td>\n",
       "      <td>0.000000</td>\n",
       "    </tr>\n",
       "    <tr>\n",
       "      <th>max</th>\n",
       "      <td>25120.000000</td>\n",
       "      <td>4.000000</td>\n",
       "      <td>52.651999</td>\n",
       "      <td>480.960001</td>\n",
       "      <td>22.769001</td>\n",
       "      <td>53433.000440</td>\n",
       "      <td>1.034100e+06</td>\n",
       "      <td>322.199997</td>\n",
       "      <td>649.230003</td>\n",
       "      <td>53431.999474</td>\n",
       "      <td>...</td>\n",
       "      <td>293.158392</td>\n",
       "      <td>552.639985</td>\n",
       "      <td>59671.999668</td>\n",
       "      <td>23853.000122</td>\n",
       "      <td>2.137800e+06</td>\n",
       "      <td>12296.000520</td>\n",
       "      <td>7.276000e+06</td>\n",
       "      <td>23453.999855</td>\n",
       "      <td>294769.993913</td>\n",
       "      <td>1.000000</td>\n",
       "    </tr>\n",
       "  </tbody>\n",
       "</table>\n",
       "<p>8 rows × 67 columns</p>\n",
       "</div>"
      ],
      "text/plain": [
       "                 id  forecasting period  net_profit_over_total_assets  \\\n",
       "count  25121.000000        25121.000000                  25121.000000   \n",
       "mean   12560.000000            2.608574                      0.046883   \n",
       "std     7251.952392            1.063099                      1.821587   \n",
       "min        0.000000            1.000000                   -256.889998   \n",
       "25%     6280.000000            2.000000                      0.003354   \n",
       "50%    12560.000000            3.000000                      0.049838   \n",
       "75%    18840.000000            4.000000                      0.131410   \n",
       "max    25120.000000            4.000000                     52.651999   \n",
       "\n",
       "       total_liabilities_over_total_assets  working_capital_over_total_assets  \\\n",
       "count                         25121.000000                       25121.000000   \n",
       "mean                              0.611913                           0.098553   \n",
       "std                               5.933092                           5.907783   \n",
       "min                             -72.162006                        -479.959994   \n",
       "25%                               0.271085                           0.016667   \n",
       "50%                               0.476985                           0.191632   \n",
       "75%                               0.693518                           0.401742   \n",
       "max                             480.960001                          22.769001   \n",
       "\n",
       "       current_assets_over_short_term_liabilities  \\\n",
       "count                                25121.000000   \n",
       "mean                                     6.285753   \n",
       "std                                    339.445391   \n",
       "min                                     -0.044851   \n",
       "25%                                      1.039445   \n",
       "50%                                      1.557344   \n",
       "75%                                      2.784023   \n",
       "max                                  53433.000440   \n",
       "\n",
       "       cash_plus_short_term_securities_plus_receivables_minus_short_term_liabilities_over_operating_expenses_minus_depreciation_times_365  \\\n",
       "count                                       2.512100e+04                                                                                    \n",
       "mean                                       -9.125936e+01                                                                                    \n",
       "std                                         1.826400e+04                                                                                    \n",
       "min                                        -1.670200e+06                                                                                    \n",
       "25%                                        -5.106407e+01                                                                                    \n",
       "50%                                        -1.874916e+00                                                                                    \n",
       "75%                                         5.105802e+01                                                                                    \n",
       "max                                         1.034100e+06                                                                                    \n",
       "\n",
       "       retained_earnings_over_total_assets  EBIT_over_total_assets  \\\n",
       "count                         25121.000000            25121.000000   \n",
       "mean                             -0.067728                0.147535   \n",
       "std                               6.872710                5.834939   \n",
       "min                            -508.409992             -189.559992   \n",
       "25%                              -0.000010                0.005652   \n",
       "50%                               0.000003                0.060084   \n",
       "75%                               0.085011                0.153183   \n",
       "max                             322.199997              649.230003   \n",
       "\n",
       "       book_value_of_equity_over_total_liabilities  ...  \\\n",
       "count                                 25121.000000  ...   \n",
       "mean                                     15.153162  ...   \n",
       "std                                     610.876764  ...   \n",
       "min                                    -141.410220  ...   \n",
       "25%                                       0.423195  ...   \n",
       "50%                                       1.054305  ...   \n",
       "75%                                       2.606133  ...   \n",
       "max                                   53431.999474  ...   \n",
       "\n",
       "       sales_minus_cost_of_products_sold_over_sales  \\\n",
       "count                                  25121.000000   \n",
       "mean                                      -0.770713   \n",
       "std                                       72.865215   \n",
       "min                                    -8534.599415   \n",
       "25%                                        0.008373   \n",
       "50%                                        0.052521   \n",
       "75%                                        0.128879   \n",
       "max                                      293.158392   \n",
       "\n",
       "       current_assets_minus_inventory_minus_short_term_liabilities_over_sales_minus_gross_profit_minus_depreciation  \\\n",
       "count                                       25121.000000                                                              \n",
       "mean                                            0.098693                                                              \n",
       "std                                            10.380340                                                              \n",
       "min                                          -979.250019                                                              \n",
       "25%                                             0.015153                                                              \n",
       "50%                                             0.122504                                                              \n",
       "75%                                             0.293659                                                              \n",
       "max                                           552.639985                                                              \n",
       "\n",
       "       total_costs_overtotal_sales  long_term_liabilities_over_equity  \\\n",
       "count                 25121.000000                       25121.000000   \n",
       "mean                      4.429418                           1.597135   \n",
       "std                     382.939320                         152.432060   \n",
       "min                      -1.631820                        -327.970143   \n",
       "25%                       0.875789                          -0.000002   \n",
       "50%                       0.951085                           0.005201   \n",
       "75%                       0.993312                           0.242058   \n",
       "max                   59671.999668                       23853.000122   \n",
       "\n",
       "       sales_over_inventory  sales_over_receivables  \\\n",
       "count          2.512100e+04            25121.000000   \n",
       "mean           3.225273e+02               14.315634   \n",
       "std            1.565162e+04              120.698050   \n",
       "min           -4.066151e-02              -12.655400   \n",
       "25%            5.797468e+00                4.542071   \n",
       "50%            1.062085e+01                6.749773   \n",
       "75%            2.469057e+01               10.652195   \n",
       "max            2.137800e+06            12296.000520   \n",
       "\n",
       "       short_term_liabilities_times_365_over_sales  \\\n",
       "count                                 2.512100e+04   \n",
       "mean                                  7.394522e+02   \n",
       "std                                   5.618732e+04   \n",
       "min                                  -2.336500e+06   \n",
       "25%                                   4.166776e+01   \n",
       "50%                                   7.116951e+01   \n",
       "75%                                   1.175783e+02   \n",
       "max                                   7.276000e+06   \n",
       "\n",
       "       sales_over_short_term_liabilities  sales_over_fixed_assets  \\\n",
       "count                       25121.000000             25121.000000   \n",
       "mean                            9.835042                77.756289   \n",
       "std                           154.435943              2667.820214   \n",
       "min                            -0.367905            -10677.001615   \n",
       "25%                             3.105896                 2.218706   \n",
       "50%                             5.133577                 4.460347   \n",
       "75%                             8.767945                10.631476   \n",
       "max                         23453.999855            294769.993913   \n",
       "\n",
       "              class  \n",
       "count  25121.000000  \n",
       "mean       0.044823  \n",
       "std        0.206919  \n",
       "min        0.000000  \n",
       "25%        0.000000  \n",
       "50%        0.000000  \n",
       "75%        0.000000  \n",
       "max        1.000000  \n",
       "\n",
       "[8 rows x 67 columns]"
      ]
     },
     "execution_count": 15,
     "metadata": {},
     "output_type": "execute_result"
    }
   ],
   "source": [
    "train.describe()"
   ]
  },
  {
   "cell_type": "markdown",
   "id": "93275a2f",
   "metadata": {},
   "source": [
    "### Train and validation split"
   ]
  },
  {
   "cell_type": "code",
   "execution_count": 16,
   "id": "07eb5af0",
   "metadata": {},
   "outputs": [],
   "source": [
    "X = train.iloc[:, 1:-1]\n",
    "y = train.iloc[:,  -1]"
   ]
  },
  {
   "cell_type": "code",
   "execution_count": 17,
   "id": "852fa5ea",
   "metadata": {},
   "outputs": [
    {
     "data": {
      "text/html": [
       "<div>\n",
       "<style scoped>\n",
       "    .dataframe tbody tr th:only-of-type {\n",
       "        vertical-align: middle;\n",
       "    }\n",
       "\n",
       "    .dataframe tbody tr th {\n",
       "        vertical-align: top;\n",
       "    }\n",
       "\n",
       "    .dataframe thead th {\n",
       "        text-align: right;\n",
       "    }\n",
       "</style>\n",
       "<table border=\"1\" class=\"dataframe\">\n",
       "  <thead>\n",
       "    <tr style=\"text-align: right;\">\n",
       "      <th></th>\n",
       "      <th>forecasting period</th>\n",
       "      <th>net_profit_over_total_assets</th>\n",
       "      <th>total_liabilities_over_total_assets</th>\n",
       "      <th>working_capital_over_total_assets</th>\n",
       "      <th>current_assets_over_short_term_liabilities</th>\n",
       "      <th>cash_plus_short_term_securities_plus_receivables_minus_short_term_liabilities_over_operating_expenses_minus_depreciation_times_365</th>\n",
       "      <th>retained_earnings_over_total_assets</th>\n",
       "      <th>EBIT_over_total_assets</th>\n",
       "      <th>book_value_of_equity_over_total_liabilities</th>\n",
       "      <th>sales_over_total_assets</th>\n",
       "      <th>...</th>\n",
       "      <th>working_capital</th>\n",
       "      <th>sales_minus_cost_of_products_sold_over_sales</th>\n",
       "      <th>current_assets_minus_inventory_minus_short_term_liabilities_over_sales_minus_gross_profit_minus_depreciation</th>\n",
       "      <th>total_costs_overtotal_sales</th>\n",
       "      <th>long_term_liabilities_over_equity</th>\n",
       "      <th>sales_over_inventory</th>\n",
       "      <th>sales_over_receivables</th>\n",
       "      <th>short_term_liabilities_times_365_over_sales</th>\n",
       "      <th>sales_over_short_term_liabilities</th>\n",
       "      <th>sales_over_fixed_assets</th>\n",
       "    </tr>\n",
       "  </thead>\n",
       "  <tbody>\n",
       "    <tr>\n",
       "      <th>0</th>\n",
       "      <td>4.0</td>\n",
       "      <td>0.141939</td>\n",
       "      <td>0.450292</td>\n",
       "      <td>0.021422</td>\n",
       "      <td>1.052987</td>\n",
       "      <td>-28.529084</td>\n",
       "      <td>0.141934</td>\n",
       "      <td>0.172629</td>\n",
       "      <td>0.990337</td>\n",
       "      <td>1.087356</td>\n",
       "      <td>...</td>\n",
       "      <td>800.542408</td>\n",
       "      <td>0.079572</td>\n",
       "      <td>0.318286</td>\n",
       "      <td>0.927687</td>\n",
       "      <td>0.106818</td>\n",
       "      <td>12.941797</td>\n",
       "      <td>10.044585</td>\n",
       "      <td>64.713700</td>\n",
       "      <td>5.626894</td>\n",
       "      <td>3.937064</td>\n",
       "    </tr>\n",
       "    <tr>\n",
       "      <th>1</th>\n",
       "      <td>4.0</td>\n",
       "      <td>0.147560</td>\n",
       "      <td>0.234840</td>\n",
       "      <td>0.708335</td>\n",
       "      <td>4.016018</td>\n",
       "      <td>119.445611</td>\n",
       "      <td>0.457090</td>\n",
       "      <td>0.186070</td>\n",
       "      <td>3.206445</td>\n",
       "      <td>1.093404</td>\n",
       "      <td>...</td>\n",
       "      <td>24093.000493</td>\n",
       "      <td>0.095218</td>\n",
       "      <td>0.195943</td>\n",
       "      <td>0.907056</td>\n",
       "      <td>-0.000029</td>\n",
       "      <td>233.301688</td>\n",
       "      <td>2.747416</td>\n",
       "      <td>36.967435</td>\n",
       "      <td>9.813419</td>\n",
       "      <td>40.567739</td>\n",
       "    </tr>\n",
       "    <tr>\n",
       "      <th>2</th>\n",
       "      <td>1.0</td>\n",
       "      <td>-0.024542</td>\n",
       "      <td>0.311544</td>\n",
       "      <td>0.067831</td>\n",
       "      <td>1.255247</td>\n",
       "      <td>-15.019923</td>\n",
       "      <td>-0.657003</td>\n",
       "      <td>-0.024537</td>\n",
       "      <td>2.209000</td>\n",
       "      <td>0.825578</td>\n",
       "      <td>...</td>\n",
       "      <td>851.179200</td>\n",
       "      <td>0.109035</td>\n",
       "      <td>-0.035634</td>\n",
       "      <td>0.929825</td>\n",
       "      <td>0.055331</td>\n",
       "      <td>8.589991</td>\n",
       "      <td>5.164738</td>\n",
       "      <td>117.924040</td>\n",
       "      <td>3.098273</td>\n",
       "      <td>1.239711</td>\n",
       "    </tr>\n",
       "    <tr>\n",
       "      <th>3</th>\n",
       "      <td>2.0</td>\n",
       "      <td>0.159317</td>\n",
       "      <td>0.777017</td>\n",
       "      <td>0.207431</td>\n",
       "      <td>1.267310</td>\n",
       "      <td>-4.892918</td>\n",
       "      <td>-0.000005</td>\n",
       "      <td>0.159321</td>\n",
       "      <td>0.288177</td>\n",
       "      <td>2.283532</td>\n",
       "      <td>...</td>\n",
       "      <td>2577.614840</td>\n",
       "      <td>0.102971</td>\n",
       "      <td>0.714528</td>\n",
       "      <td>0.937895</td>\n",
       "      <td>-0.000077</td>\n",
       "      <td>9.928221</td>\n",
       "      <td>5.912786</td>\n",
       "      <td>123.752610</td>\n",
       "      <td>2.946008</td>\n",
       "      <td>130.208321</td>\n",
       "    </tr>\n",
       "    <tr>\n",
       "      <th>4</th>\n",
       "      <td>4.0</td>\n",
       "      <td>0.004404</td>\n",
       "      <td>0.577419</td>\n",
       "      <td>-0.104435</td>\n",
       "      <td>0.786225</td>\n",
       "      <td>-116.911618</td>\n",
       "      <td>0.056561</td>\n",
       "      <td>0.004249</td>\n",
       "      <td>0.692166</td>\n",
       "      <td>1.013605</td>\n",
       "      <td>...</td>\n",
       "      <td>-11887.079853</td>\n",
       "      <td>0.016446</td>\n",
       "      <td>0.011019</td>\n",
       "      <td>0.979425</td>\n",
       "      <td>0.221335</td>\n",
       "      <td>5.099541</td>\n",
       "      <td>6.890130</td>\n",
       "      <td>166.761980</td>\n",
       "      <td>2.189705</td>\n",
       "      <td>1.740353</td>\n",
       "    </tr>\n",
       "  </tbody>\n",
       "</table>\n",
       "<p>5 rows × 65 columns</p>\n",
       "</div>"
      ],
      "text/plain": [
       "   forecasting period  net_profit_over_total_assets  \\\n",
       "0                 4.0                      0.141939   \n",
       "1                 4.0                      0.147560   \n",
       "2                 1.0                     -0.024542   \n",
       "3                 2.0                      0.159317   \n",
       "4                 4.0                      0.004404   \n",
       "\n",
       "   total_liabilities_over_total_assets  working_capital_over_total_assets  \\\n",
       "0                             0.450292                           0.021422   \n",
       "1                             0.234840                           0.708335   \n",
       "2                             0.311544                           0.067831   \n",
       "3                             0.777017                           0.207431   \n",
       "4                             0.577419                          -0.104435   \n",
       "\n",
       "   current_assets_over_short_term_liabilities  \\\n",
       "0                                    1.052987   \n",
       "1                                    4.016018   \n",
       "2                                    1.255247   \n",
       "3                                    1.267310   \n",
       "4                                    0.786225   \n",
       "\n",
       "   cash_plus_short_term_securities_plus_receivables_minus_short_term_liabilities_over_operating_expenses_minus_depreciation_times_365  \\\n",
       "0                                         -28.529084                                                                                    \n",
       "1                                         119.445611                                                                                    \n",
       "2                                         -15.019923                                                                                    \n",
       "3                                          -4.892918                                                                                    \n",
       "4                                        -116.911618                                                                                    \n",
       "\n",
       "   retained_earnings_over_total_assets  EBIT_over_total_assets  \\\n",
       "0                             0.141934                0.172629   \n",
       "1                             0.457090                0.186070   \n",
       "2                            -0.657003               -0.024537   \n",
       "3                            -0.000005                0.159321   \n",
       "4                             0.056561                0.004249   \n",
       "\n",
       "   book_value_of_equity_over_total_liabilities  sales_over_total_assets  ...  \\\n",
       "0                                     0.990337                 1.087356  ...   \n",
       "1                                     3.206445                 1.093404  ...   \n",
       "2                                     2.209000                 0.825578  ...   \n",
       "3                                     0.288177                 2.283532  ...   \n",
       "4                                     0.692166                 1.013605  ...   \n",
       "\n",
       "   working_capital  sales_minus_cost_of_products_sold_over_sales  \\\n",
       "0       800.542408                                      0.079572   \n",
       "1     24093.000493                                      0.095218   \n",
       "2       851.179200                                      0.109035   \n",
       "3      2577.614840                                      0.102971   \n",
       "4    -11887.079853                                      0.016446   \n",
       "\n",
       "   current_assets_minus_inventory_minus_short_term_liabilities_over_sales_minus_gross_profit_minus_depreciation  \\\n",
       "0                                           0.318286                                                              \n",
       "1                                           0.195943                                                              \n",
       "2                                          -0.035634                                                              \n",
       "3                                           0.714528                                                              \n",
       "4                                           0.011019                                                              \n",
       "\n",
       "   total_costs_overtotal_sales  long_term_liabilities_over_equity  \\\n",
       "0                     0.927687                           0.106818   \n",
       "1                     0.907056                          -0.000029   \n",
       "2                     0.929825                           0.055331   \n",
       "3                     0.937895                          -0.000077   \n",
       "4                     0.979425                           0.221335   \n",
       "\n",
       "   sales_over_inventory  sales_over_receivables  \\\n",
       "0             12.941797               10.044585   \n",
       "1            233.301688                2.747416   \n",
       "2              8.589991                5.164738   \n",
       "3              9.928221                5.912786   \n",
       "4              5.099541                6.890130   \n",
       "\n",
       "   short_term_liabilities_times_365_over_sales  \\\n",
       "0                                    64.713700   \n",
       "1                                    36.967435   \n",
       "2                                   117.924040   \n",
       "3                                   123.752610   \n",
       "4                                   166.761980   \n",
       "\n",
       "   sales_over_short_term_liabilities  sales_over_fixed_assets  \n",
       "0                           5.626894                 3.937064  \n",
       "1                           9.813419                40.567739  \n",
       "2                           3.098273                 1.239711  \n",
       "3                           2.946008               130.208321  \n",
       "4                           2.189705                 1.740353  \n",
       "\n",
       "[5 rows x 65 columns]"
      ]
     },
     "execution_count": 17,
     "metadata": {},
     "output_type": "execute_result"
    }
   ],
   "source": [
    "X.head()"
   ]
  },
  {
   "cell_type": "code",
   "execution_count": 18,
   "id": "40ed626b",
   "metadata": {},
   "outputs": [
    {
     "data": {
      "text/plain": [
       "0    1.0\n",
       "1    0.0\n",
       "2    0.0\n",
       "3    0.0\n",
       "4    0.0\n",
       "Name: class, dtype: float64"
      ]
     },
     "execution_count": 18,
     "metadata": {},
     "output_type": "execute_result"
    }
   ],
   "source": [
    "y.head()"
   ]
  },
  {
   "cell_type": "code",
   "execution_count": 19,
   "id": "e86ec7c4",
   "metadata": {},
   "outputs": [],
   "source": [
    "from sklearn.model_selection import train_test_split\n",
    "X_train, X_test, y_train, y_test = train_test_split(X, y, test_size=0.3, random_state=341)"
   ]
  },
  {
   "cell_type": "markdown",
   "id": "5cbc3c37",
   "metadata": {},
   "source": [
    "### Test data preprocessing"
   ]
  },
  {
   "cell_type": "code",
   "execution_count": 44,
   "id": "0545386c",
   "metadata": {},
   "outputs": [
    {
     "data": {
      "text/plain": [
       "current_assets_minus_inventories_over_long_term_liabilities    5283\n",
       "sales_n_over_sales_n_minus_1                                   1840\n",
       "profit_on_operating_activities_over_financial_expenses          773\n",
       "sales_over_inventory                                            602\n",
       "net_profit_over_inventory                                       600\n",
       "                                                               ... \n",
       "sales_over_total_assets                                           1\n",
       "long_term_liabilities_over_equity                                 1\n",
       "forecasting period                                                0\n",
       "working_capital                                                   0\n",
       "id                                                                0\n",
       "Length: 66, dtype: int64"
      ]
     },
     "execution_count": 44,
     "metadata": {},
     "output_type": "execute_result"
    }
   ],
   "source": [
    "df1 = pd.read_csv(\"../data/test.csv\", low_memory=False)\n",
    "test = df1.apply(pd.to_numeric, errors='coerce')\n",
    "test.isna().sum().sort_values(ascending=False)"
   ]
  },
  {
   "cell_type": "code",
   "execution_count": 21,
   "id": "6eb36600",
   "metadata": {},
   "outputs": [],
   "source": [
    "for i in test:\n",
    "    test.loc[test.loc[:,i].isnull(),i]=test.loc[:,i].mean()"
   ]
  },
  {
   "cell_type": "code",
   "execution_count": 22,
   "id": "0b6b104f",
   "metadata": {},
   "outputs": [
    {
     "data": {
      "text/plain": [
       "id                                                                            0\n",
       "EBITDA_profit_on_operating_activities_minus_depreciation_over_total_assets    0\n",
       "operating_expenses_over_total_liabilities                                     0\n",
       "profit_on_sales_over_total_assets                                             0\n",
       "total_sales_over_total_assets                                                 0\n",
       "                                                                             ..\n",
       "net_profit_plus_depreciation_over_total_liabilities                           0\n",
       "profit_on_operating_activities_over_financial_expenses                        0\n",
       "working_capital_over_fixed_assets                                             0\n",
       "logarithm_of_total_assets                                                     0\n",
       "sales_over_fixed_assets                                                       0\n",
       "Length: 66, dtype: int64"
      ]
     },
     "execution_count": 22,
     "metadata": {},
     "output_type": "execute_result"
    }
   ],
   "source": [
    "test.isna().sum().sort_values(ascending=False)"
   ]
  },
  {
   "cell_type": "code",
   "execution_count": 23,
   "id": "e53e8a16",
   "metadata": {},
   "outputs": [
    {
     "data": {
      "text/html": [
       "<div>\n",
       "<style scoped>\n",
       "    .dataframe tbody tr th:only-of-type {\n",
       "        vertical-align: middle;\n",
       "    }\n",
       "\n",
       "    .dataframe tbody tr th {\n",
       "        vertical-align: top;\n",
       "    }\n",
       "\n",
       "    .dataframe thead th {\n",
       "        text-align: right;\n",
       "    }\n",
       "</style>\n",
       "<table border=\"1\" class=\"dataframe\">\n",
       "  <thead>\n",
       "    <tr style=\"text-align: right;\">\n",
       "      <th></th>\n",
       "      <th>forecasting period</th>\n",
       "      <th>net_profit_over_total_assets</th>\n",
       "      <th>total_liabilities_over_total_assets</th>\n",
       "      <th>working_capital_over_total_assets</th>\n",
       "      <th>current_assets_over_short_term_liabilities</th>\n",
       "      <th>cash_plus_short_term_securities_plus_receivables_minus_short_term_liabilities_over_operating_expenses_minus_depreciation_times_365</th>\n",
       "      <th>retained_earnings_over_total_assets</th>\n",
       "      <th>EBIT_over_total_assets</th>\n",
       "      <th>book_value_of_equity_over_total_liabilities</th>\n",
       "      <th>sales_over_total_assets</th>\n",
       "      <th>...</th>\n",
       "      <th>working_capital</th>\n",
       "      <th>sales_minus_cost_of_products_sold_over_sales</th>\n",
       "      <th>current_assets_minus_inventory_minus_short_term_liabilities_over_sales_minus_gross_profit_minus_depreciation</th>\n",
       "      <th>total_costs_overtotal_sales</th>\n",
       "      <th>long_term_liabilities_over_equity</th>\n",
       "      <th>sales_over_inventory</th>\n",
       "      <th>sales_over_receivables</th>\n",
       "      <th>short_term_liabilities_times_365_over_sales</th>\n",
       "      <th>sales_over_short_term_liabilities</th>\n",
       "      <th>sales_over_fixed_assets</th>\n",
       "    </tr>\n",
       "  </thead>\n",
       "  <tbody>\n",
       "    <tr>\n",
       "      <th>0</th>\n",
       "      <td>4.0</td>\n",
       "      <td>0.087054</td>\n",
       "      <td>0.504697</td>\n",
       "      <td>-0.213442</td>\n",
       "      <td>0.527201</td>\n",
       "      <td>-945.320442</td>\n",
       "      <td>2.456644e-07</td>\n",
       "      <td>0.091917</td>\n",
       "      <td>0.982293</td>\n",
       "      <td>1.642851</td>\n",
       "      <td>...</td>\n",
       "      <td>-19987.124701</td>\n",
       "      <td>0.322386</td>\n",
       "      <td>0.175775</td>\n",
       "      <td>0.706656</td>\n",
       "      <td>0.010392</td>\n",
       "      <td>28.872646</td>\n",
       "      <td>12.709311</td>\n",
       "      <td>100.292643</td>\n",
       "      <td>3.644498</td>\n",
       "      <td>2.154215</td>\n",
       "    </tr>\n",
       "    <tr>\n",
       "      <th>1</th>\n",
       "      <td>2.0</td>\n",
       "      <td>-0.210390</td>\n",
       "      <td>0.631828</td>\n",
       "      <td>0.228799</td>\n",
       "      <td>1.369950</td>\n",
       "      <td>-63.351273</td>\n",
       "      <td>-3.844551e-02</td>\n",
       "      <td>-0.258109</td>\n",
       "      <td>0.582886</td>\n",
       "      <td>1.670711</td>\n",
       "      <td>...</td>\n",
       "      <td>18.621606</td>\n",
       "      <td>-0.126736</td>\n",
       "      <td>-0.571445</td>\n",
       "      <td>1.152916</td>\n",
       "      <td>0.000040</td>\n",
       "      <td>3.070083</td>\n",
       "      <td>6.488415</td>\n",
       "      <td>135.027409</td>\n",
       "      <td>2.700548</td>\n",
       "      <td>10.951484</td>\n",
       "    </tr>\n",
       "    <tr>\n",
       "      <th>2</th>\n",
       "      <td>1.0</td>\n",
       "      <td>0.755349</td>\n",
       "      <td>0.208157</td>\n",
       "      <td>0.525567</td>\n",
       "      <td>3.525034</td>\n",
       "      <td>95.936870</td>\n",
       "      <td>7.305173e-03</td>\n",
       "      <td>0.755342</td>\n",
       "      <td>3.804564</td>\n",
       "      <td>2.604779</td>\n",
       "      <td>...</td>\n",
       "      <td>1440.011406</td>\n",
       "      <td>0.337905</td>\n",
       "      <td>0.953913</td>\n",
       "      <td>0.708700</td>\n",
       "      <td>0.000308</td>\n",
       "      <td>34.481702</td>\n",
       "      <td>5.197885</td>\n",
       "      <td>29.178703</td>\n",
       "      <td>12.513042</td>\n",
       "      <td>9.782107</td>\n",
       "    </tr>\n",
       "    <tr>\n",
       "      <th>3</th>\n",
       "      <td>2.0</td>\n",
       "      <td>0.090151</td>\n",
       "      <td>0.539555</td>\n",
       "      <td>0.220522</td>\n",
       "      <td>1.409651</td>\n",
       "      <td>-8.775940</td>\n",
       "      <td>-3.165242e-01</td>\n",
       "      <td>0.090153</td>\n",
       "      <td>0.852674</td>\n",
       "      <td>2.567658</td>\n",
       "      <td>...</td>\n",
       "      <td>503.854614</td>\n",
       "      <td>0.220679</td>\n",
       "      <td>0.195811</td>\n",
       "      <td>0.776341</td>\n",
       "      <td>0.000179</td>\n",
       "      <td>10.178220</td>\n",
       "      <td>5.473611</td>\n",
       "      <td>76.575956</td>\n",
       "      <td>4.771108</td>\n",
       "      <td>10.639495</td>\n",
       "    </tr>\n",
       "    <tr>\n",
       "      <th>4</th>\n",
       "      <td>4.0</td>\n",
       "      <td>0.023989</td>\n",
       "      <td>0.002572</td>\n",
       "      <td>0.987142</td>\n",
       "      <td>385.569944</td>\n",
       "      <td>1704.227987</td>\n",
       "      <td>1.438131e-05</td>\n",
       "      <td>0.029510</td>\n",
       "      <td>388.589564</td>\n",
       "      <td>0.210381</td>\n",
       "      <td>...</td>\n",
       "      <td>12841.024909</td>\n",
       "      <td>0.051816</td>\n",
       "      <td>0.024058</td>\n",
       "      <td>0.884155</td>\n",
       "      <td>0.000004</td>\n",
       "      <td>5.369218</td>\n",
       "      <td>14.109097</td>\n",
       "      <td>4.340005</td>\n",
       "      <td>81.967149</td>\n",
       "      <td>20.421013</td>\n",
       "    </tr>\n",
       "  </tbody>\n",
       "</table>\n",
       "<p>5 rows × 65 columns</p>\n",
       "</div>"
      ],
      "text/plain": [
       "   forecasting period  net_profit_over_total_assets  \\\n",
       "0                 4.0                      0.087054   \n",
       "1                 2.0                     -0.210390   \n",
       "2                 1.0                      0.755349   \n",
       "3                 2.0                      0.090151   \n",
       "4                 4.0                      0.023989   \n",
       "\n",
       "   total_liabilities_over_total_assets  working_capital_over_total_assets  \\\n",
       "0                             0.504697                          -0.213442   \n",
       "1                             0.631828                           0.228799   \n",
       "2                             0.208157                           0.525567   \n",
       "3                             0.539555                           0.220522   \n",
       "4                             0.002572                           0.987142   \n",
       "\n",
       "   current_assets_over_short_term_liabilities  \\\n",
       "0                                    0.527201   \n",
       "1                                    1.369950   \n",
       "2                                    3.525034   \n",
       "3                                    1.409651   \n",
       "4                                  385.569944   \n",
       "\n",
       "   cash_plus_short_term_securities_plus_receivables_minus_short_term_liabilities_over_operating_expenses_minus_depreciation_times_365  \\\n",
       "0                                        -945.320442                                                                                    \n",
       "1                                         -63.351273                                                                                    \n",
       "2                                          95.936870                                                                                    \n",
       "3                                          -8.775940                                                                                    \n",
       "4                                        1704.227987                                                                                    \n",
       "\n",
       "   retained_earnings_over_total_assets  EBIT_over_total_assets  \\\n",
       "0                         2.456644e-07                0.091917   \n",
       "1                        -3.844551e-02               -0.258109   \n",
       "2                         7.305173e-03                0.755342   \n",
       "3                        -3.165242e-01                0.090153   \n",
       "4                         1.438131e-05                0.029510   \n",
       "\n",
       "   book_value_of_equity_over_total_liabilities  sales_over_total_assets  ...  \\\n",
       "0                                     0.982293                 1.642851  ...   \n",
       "1                                     0.582886                 1.670711  ...   \n",
       "2                                     3.804564                 2.604779  ...   \n",
       "3                                     0.852674                 2.567658  ...   \n",
       "4                                   388.589564                 0.210381  ...   \n",
       "\n",
       "   working_capital  sales_minus_cost_of_products_sold_over_sales  \\\n",
       "0    -19987.124701                                      0.322386   \n",
       "1        18.621606                                     -0.126736   \n",
       "2      1440.011406                                      0.337905   \n",
       "3       503.854614                                      0.220679   \n",
       "4     12841.024909                                      0.051816   \n",
       "\n",
       "   current_assets_minus_inventory_minus_short_term_liabilities_over_sales_minus_gross_profit_minus_depreciation  \\\n",
       "0                                           0.175775                                                              \n",
       "1                                          -0.571445                                                              \n",
       "2                                           0.953913                                                              \n",
       "3                                           0.195811                                                              \n",
       "4                                           0.024058                                                              \n",
       "\n",
       "   total_costs_overtotal_sales  long_term_liabilities_over_equity  \\\n",
       "0                     0.706656                           0.010392   \n",
       "1                     1.152916                           0.000040   \n",
       "2                     0.708700                           0.000308   \n",
       "3                     0.776341                           0.000179   \n",
       "4                     0.884155                           0.000004   \n",
       "\n",
       "   sales_over_inventory  sales_over_receivables  \\\n",
       "0             28.872646               12.709311   \n",
       "1              3.070083                6.488415   \n",
       "2             34.481702                5.197885   \n",
       "3             10.178220                5.473611   \n",
       "4              5.369218               14.109097   \n",
       "\n",
       "   short_term_liabilities_times_365_over_sales  \\\n",
       "0                                   100.292643   \n",
       "1                                   135.027409   \n",
       "2                                    29.178703   \n",
       "3                                    76.575956   \n",
       "4                                     4.340005   \n",
       "\n",
       "   sales_over_short_term_liabilities  sales_over_fixed_assets  \n",
       "0                           3.644498                 2.154215  \n",
       "1                           2.700548                10.951484  \n",
       "2                          12.513042                 9.782107  \n",
       "3                           4.771108                10.639495  \n",
       "4                          81.967149                20.421013  \n",
       "\n",
       "[5 rows x 65 columns]"
      ]
     },
     "execution_count": 23,
     "metadata": {},
     "output_type": "execute_result"
    }
   ],
   "source": [
    "test1 = test.iloc[:, 1:]\n",
    "test1.head()"
   ]
  },
  {
   "cell_type": "markdown",
   "id": "b87e31a4",
   "metadata": {},
   "source": [
    "Now that we have imputed both train and test using KNN we can start the model building. "
   ]
  },
  {
   "cell_type": "markdown",
   "id": "0ceab027",
   "metadata": {},
   "source": [
    "### Model Building"
   ]
  },
  {
   "cell_type": "markdown",
   "id": "b8d6d336",
   "metadata": {},
   "source": [
    "#### Logistic Regression"
   ]
  },
  {
   "cell_type": "code",
   "execution_count": 24,
   "id": "5621bc78",
   "metadata": {},
   "outputs": [],
   "source": [
    "from sklearn import preprocessing\n",
    "scaler = preprocessing.StandardScaler().fit(X_train)\n",
    "X_train = scaler.transform(X_train)\n",
    "X_test = scaler.transform(X_test)"
   ]
  },
  {
   "cell_type": "code",
   "execution_count": 25,
   "id": "cb095820",
   "metadata": {},
   "outputs": [],
   "source": [
    "from sklearn.feature_selection import SelectKBest\n",
    "k = 12\n",
    "prep = SelectKBest(k=k)\n",
    "X_train = prep.fit_transform(X_train, y_train)\n",
    "X_test = prep.fit_transform(X_test, y_test)"
   ]
  },
  {
   "cell_type": "code",
   "execution_count": 28,
   "id": "d4311359",
   "metadata": {},
   "outputs": [
    {
     "name": "stdout",
     "output_type": "stream",
     "text": [
      "0.004944375772558715\n",
      "0.01238390092879257\n"
     ]
    }
   ],
   "source": [
    "from sklearn.metrics import confusion_matrix\n",
    "from sklearn.metrics import classification_report\n",
    "from sklearn.metrics import recall_score\n",
    "from sklearn.metrics import accuracy_score, f1_score\n",
    "from sklearn.linear_model import LogisticRegression\n",
    "\n",
    "lr = LogisticRegression(n_jobs = -1, random_state=0, max_iter = 100000, solver = 'saga')\n",
    "lr.fit(X_train, y_train)\n",
    "y_train_pred = lr.predict(X_train)\n",
    "y_test_pred = lr.predict(X_test)\n",
    "print(f1_score(y_train, y_train_pred))\n",
    "print(f1_score(y_test, y_test_pred))"
   ]
  },
  {
   "cell_type": "code",
   "execution_count": null,
   "id": "c406d694",
   "metadata": {},
   "outputs": [],
   "source": [
    "from sklearn.model_selection import GridSearchCV\n",
    "cv = 3\n",
    "hyperparameters = {'penalty': [ 'l2','none'], 'C': [0.1, 1, 10, 100]}\n",
    "regression_grid = GridSearchCV(lr, hyperparameters, scoring='accuracy', cv=cv, verbose=0, n_jobs=-1)\n",
    "regression_grid.fit(X_train, y_train)"
   ]
  },
  {
   "cell_type": "code",
   "execution_count": 68,
   "id": "ffb139b0",
   "metadata": {},
   "outputs": [
    {
     "name": "stdout",
     "output_type": "stream",
     "text": [
      "Regression Classifier Best Parameters\n",
      "{'C': 0.1, 'penalty': 'l2'}\n"
     ]
    }
   ],
   "source": [
    "print('Regression Classifier Best Parameters')\n",
    "print(regression_grid.best_params_)"
   ]
  },
  {
   "cell_type": "markdown",
   "id": "6d578743",
   "metadata": {},
   "source": [
    "##### Model evaluation"
   ]
  },
  {
   "cell_type": "code",
   "execution_count": 69,
   "id": "fda1be75",
   "metadata": {},
   "outputs": [
    {
     "name": "stdout",
     "output_type": "stream",
     "text": [
      "[[7217    0]\n",
      " [ 319    1]]\n",
      "              precision    recall  f1-score   support\n",
      "\n",
      "           0       0.96      1.00      0.98      7217\n",
      "           1       1.00      0.00      0.01       320\n",
      "\n",
      "    accuracy                           0.96      7537\n",
      "   macro avg       0.98      0.50      0.49      7537\n",
      "weighted avg       0.96      0.96      0.94      7537\n",
      "\n"
     ]
    }
   ],
   "source": [
    "y_test_pred = regression_grid.best_estimator_.predict(X_test)\n",
    "print(confusion_matrix(y_test, y_test_pred))\n",
    "print(classification_report(y_test, y_test_pred))"
   ]
  },
  {
   "cell_type": "markdown",
   "id": "22d48d51",
   "metadata": {},
   "source": [
    "### SVM"
   ]
  },
  {
   "cell_type": "code",
   "execution_count": 70,
   "id": "0aff1c63",
   "metadata": {},
   "outputs": [],
   "source": [
    "from sklearn import preprocessing\n",
    "scaler = preprocessing.StandardScaler().fit(X_train)\n",
    "X_train = scaler.transform(X_train)\n",
    "X_test = scaler.transform(X_test)"
   ]
  },
  {
   "cell_type": "code",
   "execution_count": 71,
   "id": "144568ab",
   "metadata": {},
   "outputs": [],
   "source": [
    "from sklearn.feature_selection import SelectKBest\n",
    "k = 10\n",
    "prep = SelectKBest(k=k)\n",
    "X_train = prep.fit_transform(X_train, y_train)\n",
    "X_test = prep.fit_transform(X_test, y_test)"
   ]
  },
  {
   "cell_type": "code",
   "execution_count": null,
   "id": "ff959769",
   "metadata": {},
   "outputs": [],
   "source": [
    "from sklearn.metrics import confusion_matrix\n",
    "from sklearn.metrics import classification_report\n",
    "from sklearn.metrics import recall_score\n",
    "from sklearn.metrics import accuracy_score\n",
    "from sklearn.svm import LinearSVC\n",
    "\n",
    "clf = LinearSVC(random_state=0, C = 0.01, max_iter = 100000)\n",
    "clf.fit(X_train, y_train)\n",
    "y_train_pred = clf.predict(X_train)\n",
    "y_test_pred = clf.predict(X_test)\n",
    "print(f1_score(y_train, y_train_pred))\n",
    "print(f1_score(y_test, y_test_pred)) "
   ]
  },
  {
   "cell_type": "code",
   "execution_count": 73,
   "id": "2d4692bf",
   "metadata": {},
   "outputs": [
    {
     "data": {
      "text/plain": [
       "GridSearchCV(cv=5, estimator=LinearSVC(max_iter=10000, random_state=92),\n",
       "             n_jobs=-1, param_grid={'C': [0.01, 0.1, 1, 10, 100]},\n",
       "             scoring='accuracy')"
      ]
     },
     "execution_count": 73,
     "metadata": {},
     "output_type": "execute_result"
    }
   ],
   "source": [
    "from sklearn.model_selection import GridSearchCV\n",
    "cv = 5\n",
    "hyperparameters = {'C': [0.01, 0.1, 1, 10, 100]}\n",
    "regression_grid = GridSearchCV(LinearSVC(random_state=92, max_iter=10000), hyperparameters, scoring='accuracy', cv=cv, verbose=0, n_jobs=-1)\n",
    "regression_grid.fit(X_train, y_train)"
   ]
  },
  {
   "cell_type": "code",
   "execution_count": 76,
   "id": "29bf0048",
   "metadata": {},
   "outputs": [
    {
     "name": "stdout",
     "output_type": "stream",
     "text": [
      "Regression Classifier Best Parameters\n",
      "{'C': 0.01}\n"
     ]
    }
   ],
   "source": [
    "print('Regression Classifier Best Parameters')\n",
    "print(regression_grid.best_params_)"
   ]
  },
  {
   "cell_type": "code",
   "execution_count": 77,
   "id": "94fbf6cf",
   "metadata": {},
   "outputs": [
    {
     "name": "stdout",
     "output_type": "stream",
     "text": [
      "[[7216    1]\n",
      " [ 318    2]]\n",
      "              precision    recall  f1-score   support\n",
      "\n",
      "           0       0.96      1.00      0.98      7217\n",
      "           1       0.67      0.01      0.01       320\n",
      "\n",
      "    accuracy                           0.96      7537\n",
      "   macro avg       0.81      0.50      0.50      7537\n",
      "weighted avg       0.95      0.96      0.94      7537\n",
      "\n"
     ]
    }
   ],
   "source": [
    "y_test_pred = regression_grid.best_estimator_.predict(X_test)\n",
    "print(confusion_matrix(y_test, y_test_pred))\n",
    "print(classification_report(y_test, y_test_pred))"
   ]
  },
  {
   "cell_type": "markdown",
   "id": "6f4b2695",
   "metadata": {},
   "source": [
    "### Decision tree"
   ]
  },
  {
   "cell_type": "code",
   "execution_count": 24,
   "id": "e721ac8c",
   "metadata": {},
   "outputs": [],
   "source": [
    "X = train.iloc[:, 1:-1]\n",
    "\n",
    "from sklearn.model_selection import train_test_split\n",
    "y = train[['class']].values.ravel()\n",
    "\n",
    "X_train, X_test, y_train, y_test = train_test_split(X, y, test_size=0.2, random_state=0)"
   ]
  },
  {
   "cell_type": "code",
   "execution_count": 26,
   "id": "d58e2998",
   "metadata": {},
   "outputs": [
    {
     "name": "stdout",
     "output_type": "stream",
     "text": [
      "0.403770620581304\n",
      "0.4110429447852761\n"
     ]
    }
   ],
   "source": [
    "from sklearn.metrics import confusion_matrix\n",
    "from sklearn.metrics import classification_report\n",
    "from sklearn.metrics import recall_score\n",
    "from sklearn.metrics import accuracy_score, f1_score\n",
    "from sklearn.tree import DecisionTreeClassifier\n",
    "from sklearn.tree import plot_tree\n",
    "\n",
    "dt = DecisionTreeClassifier(random_state=92, max_depth=2)\n",
    "dt.fit(X_train, y_train)\n",
    "y_train_pred = dt.predict(X_train)\n",
    "y_test_pred = dt.predict(X_test)\n",
    "print(f1_score(y_train, y_train_pred))\n",
    "print(f1_score(y_test, y_test_pred))"
   ]
  },
  {
   "cell_type": "code",
   "execution_count": 146,
   "id": "d14df7a1",
   "metadata": {},
   "outputs": [
    {
     "name": "stdout",
     "output_type": "stream",
     "text": [
      "0.6046114432109307\n",
      "0.4890829694323144\n"
     ]
    }
   ],
   "source": [
    "dt = DecisionTreeClassifier(random_state=0, max_depth=6)\n",
    "dt.fit(X_train, y_train)\n",
    "y_train_pred = dt.predict(X_train)\n",
    "y_test_pred = dt.predict(X_test)\n",
    "print(f1_score(y_train, y_train_pred))\n",
    "print(f1_score(y_test, y_test_pred))"
   ]
  },
  {
   "cell_type": "code",
   "execution_count": 73,
   "id": "cca36ba1",
   "metadata": {},
   "outputs": [
    {
     "name": "stdout",
     "output_type": "stream",
     "text": [
      "[[7191   26]\n",
      " [ 208  112]]\n",
      "              precision    recall  f1-score   support\n",
      "\n",
      "         0.0       0.97      1.00      0.98      7217\n",
      "         1.0       0.81      0.35      0.49       320\n",
      "\n",
      "    accuracy                           0.97      7537\n",
      "   macro avg       0.89      0.67      0.74      7537\n",
      "weighted avg       0.97      0.97      0.96      7537\n",
      "\n"
     ]
    }
   ],
   "source": [
    "print(confusion_matrix(y_test, y_test_pred))\n",
    "print(classification_report(y_test, y_test_pred))"
   ]
  },
  {
   "cell_type": "markdown",
   "id": "084266af",
   "metadata": {},
   "source": [
    "### ANN"
   ]
  },
  {
   "cell_type": "code",
   "execution_count": 18,
   "id": "6cbfc5fb",
   "metadata": {},
   "outputs": [],
   "source": [
    "from sklearn.metrics import confusion_matrix\n",
    "from sklearn.metrics import classification_report\n",
    "from sklearn.metrics import recall_score\n",
    "from sklearn.metrics import accuracy_score, f1_score\n",
    "from sklearn import preprocessing"
   ]
  },
  {
   "cell_type": "code",
   "execution_count": 19,
   "id": "80e8ee42",
   "metadata": {},
   "outputs": [],
   "source": [
    "scaler = preprocessing.StandardScaler().fit(X_train)\n",
    "X_train = scaler.transform(X_train)\n",
    "X_test = scaler.transform(X_test)"
   ]
  },
  {
   "cell_type": "code",
   "execution_count": 20,
   "id": "2aa9dde6",
   "metadata": {},
   "outputs": [
    {
     "name": "stdout",
     "output_type": "stream",
     "text": [
      "Training accuracy: 0.8376830044557607\n",
      "Test accuracy: 0.43174603174603177\n"
     ]
    }
   ],
   "source": [
    "from sklearn.neural_network import MLPClassifier\n",
    "\n",
    "mlp = MLPClassifier(hidden_layer_sizes=(100, 50, 25, 2), random_state=0, beta_1 = 0.99) # alpha is for regularization (L2 regularization)\n",
    "mlp.fit(X_train, y_train)\n",
    "y_train_pred = mlp.predict(X_train)\n",
    "y_test_pred = mlp.predict(X_test)\n",
    "print('Training accuracy:'.format(), f1_score(y_train, y_train_pred))\n",
    "print('Test accuracy:'.format(), f1_score(y_test, y_test_pred))"
   ]
  },
  {
   "cell_type": "code",
   "execution_count": 85,
   "id": "5b8275b1",
   "metadata": {},
   "outputs": [
    {
     "name": "stdout",
     "output_type": "stream",
     "text": [
      "Training accuracy: 0.8376830044557607\n",
      "Test accuracy: 0.43174603174603177\n"
     ]
    }
   ],
   "source": [
    "from sklearn.neural_network import MLPClassifier\n",
    "\n",
    "mlp = MLPClassifier(hidden_layer_sizes=(100, 50, 25, 2), random_state=0, beta_1 = 0.99) # alpha is for regularization (L2 regularization)\n",
    "mlp.fit(X_train, y_train)\n",
    "y_train_pred = mlp.predict(X_train)\n",
    "y_test_pred = mlp.predict(X_test)\n",
    "print('Training accuracy:'.format(), f1_score(y_train, y_train_pred))\n",
    "print('Test accuracy:'.format(), f1_score(y_test, y_test_pred))"
   ]
  },
  {
   "cell_type": "code",
   "execution_count": 87,
   "id": "e1bbbcc3",
   "metadata": {},
   "outputs": [
    {
     "data": {
      "text/plain": [
       "0.0    11306\n",
       "1.0     1068\n",
       "dtype: int64"
      ]
     },
     "execution_count": 87,
     "metadata": {},
     "output_type": "execute_result"
    }
   ],
   "source": [
    "scaler = preprocessing.StandardScaler().fit(test1)\n",
    "test2 = scaler.transform(test1)\n",
    "grid_predictions = mlp.predict(test2)\n",
    "pred=pd.DataFrame(grid_predictions, index = test.id)\n",
    "pred.value_counts()"
   ]
  },
  {
   "cell_type": "code",
   "execution_count": 88,
   "id": "adee7b9b",
   "metadata": {},
   "outputs": [],
   "source": [
    "import os\n",
    "os.chdir(r'../data')\n",
    "\n",
    "pred.to_csv(r\"submission_ann.csv\")"
   ]
  },
  {
   "cell_type": "code",
   "execution_count": 18,
   "id": "8bbc22ad",
   "metadata": {},
   "outputs": [
    {
     "data": {
      "text/plain": [
       "GridSearchCV(cv=3,\n",
       "             estimator=MLPClassifier(alpha=1e-05, hidden_layer_sizes=(5, 2),\n",
       "                                     max_iter=5000, random_state=0),\n",
       "             n_jobs=-1, param_grid={'alpha': [0.0001, 0.001, 0.01, 0.1]},\n",
       "             scoring='accuracy')"
      ]
     },
     "execution_count": 18,
     "metadata": {},
     "output_type": "execute_result"
    }
   ],
   "source": [
    "from sklearn.model_selection import GridSearchCV\n",
    "cv = 3\n",
    "hyperparameters = {'alpha': [0.0001, 0.001, 0.01, 0.1]}\n",
    "mlp_grid = GridSearchCV(mlp, hyperparameters, scoring='accuracy', cv=cv, verbose=0, n_jobs=-1)\n",
    "mlp_grid.fit(X_train, y_train)"
   ]
  },
  {
   "cell_type": "code",
   "execution_count": 19,
   "id": "f890c694",
   "metadata": {},
   "outputs": [
    {
     "name": "stdout",
     "output_type": "stream",
     "text": [
      "Regression Classifier Best Parameters:\n",
      "{'alpha': 0.01}\n"
     ]
    }
   ],
   "source": [
    "print('Regression Classifier Best Parameters:')\n",
    "print(mlp_grid.best_params_)"
   ]
  },
  {
   "cell_type": "code",
   "execution_count": 23,
   "id": "b1deb048",
   "metadata": {},
   "outputs": [
    {
     "name": "stdout",
     "output_type": "stream",
     "text": [
      "[[7169   48]\n",
      " [ 240   80]]\n",
      "              precision    recall  f1-score   support\n",
      "\n",
      "         0.0       0.97      0.99      0.98      7217\n",
      "         1.0       0.62      0.25      0.36       320\n",
      "\n",
      "    accuracy                           0.96      7537\n",
      "   macro avg       0.80      0.62      0.67      7537\n",
      "weighted avg       0.95      0.96      0.95      7537\n",
      "\n"
     ]
    }
   ],
   "source": [
    "y_test_pred = mlp_grid.best_estimator_.predict(X_test)\n",
    "print(confusion_matrix(y_test, y_test_pred))\n",
    "print(classification_report(y_test, y_test_pred))"
   ]
  },
  {
   "cell_type": "code",
   "execution_count": 188,
   "id": "9ff4b798",
   "metadata": {},
   "outputs": [
    {
     "name": "stdout",
     "output_type": "stream",
     "text": [
      "[[4792    2]\n",
      " [ 230    1]]\n",
      "              precision    recall  f1-score   support\n",
      "\n",
      "         0.0       0.95      1.00      0.98      4794\n",
      "         1.0       0.33      0.00      0.01       231\n",
      "\n",
      "    accuracy                           0.95      5025\n",
      "   macro avg       0.64      0.50      0.49      5025\n",
      "weighted avg       0.93      0.95      0.93      5025\n",
      "\n"
     ]
    }
   ],
   "source": [
    "### Ridge classification\n",
    "\n",
    "from sklearn.datasets import load_breast_cancer\n",
    "from sklearn.linear_model import RidgeClassifier\n",
    "clf = RidgeClassifier().fit(X_train, y_train)\n",
    "y_test_pred = clf.predict(X_test)\n",
    "print(confusion_matrix(y_test, y_test_pred))\n",
    "print(classification_report(y_test, y_test_pred))"
   ]
  },
  {
   "cell_type": "code",
   "execution_count": 184,
   "id": "a8796537",
   "metadata": {},
   "outputs": [
    {
     "name": "stdout",
     "output_type": "stream",
     "text": [
      "[[3621 1173]\n",
      " [ 109  122]]\n",
      "              precision    recall  f1-score   support\n",
      "\n",
      "         0.0       0.97      0.76      0.85      4794\n",
      "         1.0       0.09      0.53      0.16       231\n",
      "\n",
      "    accuracy                           0.74      5025\n",
      "   macro avg       0.53      0.64      0.50      5025\n",
      "weighted avg       0.93      0.74      0.82      5025\n",
      "\n"
     ]
    }
   ],
   "source": [
    "#### SGD\n",
    "\n",
    "import numpy as np\n",
    "from sklearn.linear_model import SGDClassifier\n",
    "from sklearn.preprocessing import StandardScaler\n",
    "from sklearn.pipeline import make_pipeline\n",
    "\n",
    "clf = make_pipeline(StandardScaler(),SGDClassifier(max_iter=1000, tol=1e-3,class_weight='balanced'))\n",
    "clf.fit(X_train, y_train)\n",
    "y_test_pred = clf.predict(X_test)\n",
    "print(confusion_matrix(y_test, y_test_pred))\n",
    "print(classification_report(y_test, y_test_pred))"
   ]
  },
  {
   "cell_type": "code",
   "execution_count": 186,
   "id": "688d2760",
   "metadata": {},
   "outputs": [
    {
     "name": "stdout",
     "output_type": "stream",
     "text": [
      "[[4547  247]\n",
      " [ 205   26]]\n",
      "              precision    recall  f1-score   support\n",
      "\n",
      "         0.0       0.96      0.95      0.95      4794\n",
      "         1.0       0.10      0.11      0.10       231\n",
      "\n",
      "    accuracy                           0.91      5025\n",
      "   macro avg       0.53      0.53      0.53      5025\n",
      "weighted avg       0.92      0.91      0.91      5025\n",
      "\n"
     ]
    }
   ],
   "source": [
    "from sklearn.linear_model import PassiveAggressiveClassifier\n",
    "\n",
    "clf = PassiveAggressiveClassifier(max_iter=1000, random_state=0,tol=1e-3)\n",
    "clf.fit(X_train, y_train)\n",
    "PassiveAggressiveClassifier(random_state=0)\n",
    "\n",
    "y_test_pred = clf.predict(X_test)\n",
    "print(confusion_matrix(y_test, y_test_pred))\n",
    "print(classification_report(y_test, y_test_pred))"
   ]
  },
  {
   "cell_type": "code",
   "execution_count": 181,
   "id": "9c808990",
   "metadata": {},
   "outputs": [
    {
     "name": "stdout",
     "output_type": "stream",
     "text": [
      "[[4789    5]\n",
      " [ 227    4]]\n",
      "              precision    recall  f1-score   support\n",
      "\n",
      "         0.0       0.95      1.00      0.98      4794\n",
      "         1.0       0.44      0.02      0.03       231\n",
      "\n",
      "    accuracy                           0.95      5025\n",
      "   macro avg       0.70      0.51      0.50      5025\n",
      "weighted avg       0.93      0.95      0.93      5025\n",
      "\n"
     ]
    }
   ],
   "source": [
    "from sklearn.discriminant_analysis import LinearDiscriminantAnalysis\n",
    "\n",
    "clf = LinearDiscriminantAnalysis()\n",
    "clf.fit(X_train, y_train)\n",
    "LinearDiscriminantAnalysis()\n",
    "y_test_pred = clf.predict(X_test)\n",
    "print(confusion_matrix(y_test, y_test_pred))\n",
    "print(classification_report(y_test, y_test_pred))"
   ]
  },
  {
   "cell_type": "code",
   "execution_count": 179,
   "id": "5c408a0d",
   "metadata": {},
   "outputs": [
    {
     "name": "stdout",
     "output_type": "stream",
     "text": [
      "[[ 338 4456]\n",
      " [  13  218]]\n",
      "              precision    recall  f1-score   support\n",
      "\n",
      "         0.0       0.96      0.07      0.13      4794\n",
      "         1.0       0.05      0.94      0.09       231\n",
      "\n",
      "    accuracy                           0.11      5025\n",
      "   macro avg       0.50      0.51      0.11      5025\n",
      "weighted avg       0.92      0.11      0.13      5025\n",
      "\n"
     ]
    }
   ],
   "source": [
    "from sklearn.discriminant_analysis import QuadraticDiscriminantAnalysis\n",
    "clf = QuadraticDiscriminantAnalysis()\n",
    "clf.fit(X_train, y_train)\n",
    "QuadraticDiscriminantAnalysis()\n",
    "y_test_pred = clf.predict(X_test)\n",
    "print(confusion_matrix(y_test, y_test_pred))\n",
    "print(classification_report(y_test, y_test_pred))"
   ]
  },
  {
   "cell_type": "code",
   "execution_count": 177,
   "id": "2a50638f",
   "metadata": {},
   "outputs": [
    {
     "name": "stdout",
     "output_type": "stream",
     "text": [
      "[[1621 3173]\n",
      " [  48  183]]\n",
      "              precision    recall  f1-score   support\n",
      "\n",
      "         0.0       0.97      0.34      0.50      4794\n",
      "         1.0       0.05      0.79      0.10       231\n",
      "\n",
      "    accuracy                           0.36      5025\n",
      "   macro avg       0.51      0.57      0.30      5025\n",
      "weighted avg       0.93      0.36      0.48      5025\n",
      "\n"
     ]
    }
   ],
   "source": [
    "from sklearn.pipeline import make_pipeline\n",
    "from sklearn.preprocessing import StandardScaler\n",
    "from sklearn.svm import NuSVC\n",
    "clf = make_pipeline(StandardScaler(), NuSVC(nu=0.01,class_weight='balanced'))\n",
    "clf.fit(X_train, y_train)\n",
    "y_test_pred = clf.predict(X_test)\n",
    "print(confusion_matrix(y_test, y_test_pred))\n",
    "print(classification_report(y_test, y_test_pred))"
   ]
  },
  {
   "cell_type": "code",
   "execution_count": null,
   "id": "7a7fa5d7",
   "metadata": {},
   "outputs": [],
   "source": [
    "from sklearn.svm import LinearSVC\n",
    "from sklearn.pipeline import make_pipeline\n",
    "from sklearn.preprocessing import StandardScaler\n",
    "from sklearn.datasets import make_classification\n",
    "clf = make_pipeline(StandardScaler(),LinearSVC(random_state=0, tol=1e-5,max_iter=1000000,class_weight='balanced'))\n",
    "clf.fit(X_train, y_train)\n",
    "y_test_pred = clf.predict(X_test)\n",
    "print(confusion_matrix(y_test, y_test_pred))\n",
    "print(classification_report(y_test, y_test_pred))"
   ]
  },
  {
   "cell_type": "code",
   "execution_count": 27,
   "id": "e7c5010d",
   "metadata": {},
   "outputs": [],
   "source": [
    "from sklearn.metrics import confusion_matrix\n",
    "from sklearn.metrics import classification_report"
   ]
  },
  {
   "cell_type": "code",
   "execution_count": null,
   "id": "1c2f9f9e",
   "metadata": {},
   "outputs": [],
   "source": [
    "from sklearn.gaussian_process import GaussianProcessClassifier\n",
    "from sklearn.gaussian_process.kernels import RBF\n",
    "gpc = GaussianProcessClassifier(random_state=0).fit(X_train, y_train)\n",
    "y_test_pred = gpc.predict(X_test)\n",
    "print(confusion_matrix(y_test, y_test_pred))\n",
    "print(classification_report(y_test, y_test_pred))"
   ]
  },
  {
   "cell_type": "code",
   "execution_count": 12,
   "id": "b43f651c",
   "metadata": {},
   "outputs": [
    {
     "name": "stdout",
     "output_type": "stream",
     "text": [
      "[[7201   16]\n",
      " [ 318    2]]\n",
      "              precision    recall  f1-score   support\n",
      "\n",
      "         0.0       0.96      1.00      0.98      7217\n",
      "         1.0       0.11      0.01      0.01       320\n",
      "\n",
      "    accuracy                           0.96      7537\n",
      "   macro avg       0.53      0.50      0.49      7537\n",
      "weighted avg       0.92      0.96      0.94      7537\n",
      "\n"
     ]
    }
   ],
   "source": [
    "print(confusion_matrix(y_test, y_test_pred))\n",
    "print(classification_report(y_test, y_test_pred))"
   ]
  },
  {
   "cell_type": "code",
   "execution_count": 299,
   "id": "022ce65a",
   "metadata": {},
   "outputs": [
    {
     "name": "stdout",
     "output_type": "stream",
     "text": [
      "[[ 250 6967]\n",
      " [  14  306]]\n",
      "              precision    recall  f1-score   support\n",
      "\n",
      "         0.0       0.95      0.03      0.07      7217\n",
      "         1.0       0.04      0.96      0.08       320\n",
      "\n",
      "    accuracy                           0.07      7537\n",
      "   macro avg       0.49      0.50      0.07      7537\n",
      "weighted avg       0.91      0.07      0.07      7537\n",
      "\n"
     ]
    }
   ],
   "source": [
    "from sklearn.naive_bayes import GaussianNB\n",
    "from sklearn.metrics import confusion_matrix\n",
    "from sklearn.metrics import classification_report\n",
    "clf = GaussianNB()\n",
    "clf.fit(X_train, y_train)\n",
    "GaussianNB()\n",
    "y_test_pred = clf.predict(X_test)\n",
    "print(confusion_matrix(y_test, y_test_pred))\n",
    "print(classification_report(y_test, y_test_pred))"
   ]
  },
  {
   "cell_type": "code",
   "execution_count": 17,
   "id": "4799abe7",
   "metadata": {},
   "outputs": [
    {
     "name": "stdout",
     "output_type": "stream",
     "text": [
      "[[5764 1453]\n",
      " [ 176  144]]\n",
      "              precision    recall  f1-score   support\n",
      "\n",
      "         0.0       0.97      0.80      0.88      7217\n",
      "         1.0       0.09      0.45      0.15       320\n",
      "\n",
      "    accuracy                           0.78      7537\n",
      "   macro avg       0.53      0.62      0.51      7537\n",
      "weighted avg       0.93      0.78      0.85      7537\n",
      "\n"
     ]
    }
   ],
   "source": [
    "from sklearn.naive_bayes import BernoulliNB\n",
    "clf = BernoulliNB()\n",
    "clf.fit(X_train, y_train)\n",
    "y_test_pred = clf.predict(X_test)\n",
    "print(confusion_matrix(y_test, y_test_pred))\n",
    "print(classification_report(y_test, y_test_pred))"
   ]
  },
  {
   "cell_type": "code",
   "execution_count": 102,
   "id": "076399cd",
   "metadata": {},
   "outputs": [
    {
     "name": "stdout",
     "output_type": "stream",
     "text": [
      "[[7023  194]\n",
      " [ 155  165]]\n",
      "              precision    recall  f1-score   support\n",
      "\n",
      "         0.0       0.98      0.97      0.98      7217\n",
      "         1.0       0.46      0.52      0.49       320\n",
      "\n",
      "    accuracy                           0.95      7537\n",
      "   macro avg       0.72      0.74      0.73      7537\n",
      "weighted avg       0.96      0.95      0.95      7537\n",
      "\n"
     ]
    }
   ],
   "source": [
    "from sklearn.model_selection import cross_val_score\n",
    "from sklearn.tree import DecisionTreeClassifier\n",
    "from sklearn.metrics import confusion_matrix\n",
    "from sklearn.metrics import classification_report\n",
    "clf = DecisionTreeClassifier(random_state=0)\n",
    "clf.fit(X_train, y_train)\n",
    "y_test_pred = clf.predict(X_test)\n",
    "print(confusion_matrix(y_test, y_test_pred))\n",
    "print(classification_report(y_test, y_test_pred))"
   ]
  },
  {
   "cell_type": "code",
   "execution_count": 103,
   "id": "bd36d0c5",
   "metadata": {},
   "outputs": [
    {
     "data": {
      "text/plain": [
       "0.0    11757\n",
       "1.0      617\n",
       "dtype: int64"
      ]
     },
     "execution_count": 103,
     "metadata": {},
     "output_type": "execute_result"
    }
   ],
   "source": [
    "grid_predictions = clf.predict(test1)\n",
    "pred=pd.DataFrame(grid_predictions, index = test.id)\n",
    "pred.value_counts()"
   ]
  },
  {
   "cell_type": "code",
   "execution_count": 77,
   "id": "bc01741c",
   "metadata": {},
   "outputs": [],
   "source": [
    "import os\n",
    "os.chdir(r'../data')\n",
    "\n",
    "pred.to_csv(r\"submission_dt.csv\")"
   ]
  },
  {
   "cell_type": "code",
   "execution_count": 23,
   "id": "bdf8ebad",
   "metadata": {},
   "outputs": [
    {
     "name": "stdout",
     "output_type": "stream",
     "text": [
      "[[4715 2502]\n",
      " [ 141  179]]\n",
      "              precision    recall  f1-score   support\n",
      "\n",
      "         0.0       0.97      0.65      0.78      7217\n",
      "         1.0       0.07      0.56      0.12       320\n",
      "\n",
      "    accuracy                           0.65      7537\n",
      "   macro avg       0.52      0.61      0.45      7537\n",
      "weighted avg       0.93      0.65      0.75      7537\n",
      "\n"
     ]
    }
   ],
   "source": [
    "from sklearn.svm import SVC\n",
    "from sklearn.ensemble import BaggingClassifier\n",
    "from sklearn.datasets import make_classification\n",
    "clf = BaggingClassifier(base_estimator=SVC(class_weight='balanced'),n_estimators=10, random_state=0).fit(X_train, y_train)\n",
    "y_test_pred = clf.predict(X_test)\n",
    "print(confusion_matrix(y_test, y_test_pred))\n",
    "print(classification_report(y_test, y_test_pred))"
   ]
  },
  {
   "cell_type": "code",
   "execution_count": 247,
   "id": "37be5c9c",
   "metadata": {},
   "outputs": [
    {
     "name": "stdout",
     "output_type": "stream",
     "text": [
      "[[7198   19]\n",
      " [ 209  111]]\n",
      "              precision    recall  f1-score   support\n",
      "\n",
      "         0.0       0.97      1.00      0.98      7217\n",
      "         1.0       0.85      0.35      0.49       320\n",
      "\n",
      "    accuracy                           0.97      7537\n",
      "   macro avg       0.91      0.67      0.74      7537\n",
      "weighted avg       0.97      0.97      0.96      7537\n",
      "\n"
     ]
    }
   ],
   "source": [
    "from sklearn.ensemble import RandomForestClassifier\n",
    "from sklearn.datasets import make_classification\n",
    "clf =  RandomForestClassifier(n_estimators=25, random_state=0, bootstrap = False)\n",
    "clf.fit(X_train, y_train)\n",
    "y_test_pred = clf.predict(X_test)\n",
    "print(confusion_matrix(y_test, y_test_pred))\n",
    "print(classification_report(y_test, y_test_pred))"
   ]
  },
  {
   "cell_type": "code",
   "execution_count": 248,
   "id": "28489450",
   "metadata": {},
   "outputs": [
    {
     "data": {
      "text/plain": [
       "0.0    12139\n",
       "1.0      235\n",
       "dtype: int64"
      ]
     },
     "execution_count": 248,
     "metadata": {},
     "output_type": "execute_result"
    }
   ],
   "source": [
    "grid_predictions = clf.predict(test1)\n",
    "pred=pd.DataFrame(grid_predictions, index = test.id)\n",
    "pred.value_counts()"
   ]
  },
  {
   "cell_type": "code",
   "execution_count": 249,
   "id": "c31705c8",
   "metadata": {},
   "outputs": [],
   "source": [
    "import os\n",
    "os.chdir(r'../data')\n",
    "\n",
    "pred.to_csv(r\"submission_bt.csv\")"
   ]
  },
  {
   "cell_type": "code",
   "execution_count": 28,
   "id": "38684c61",
   "metadata": {},
   "outputs": [
    {
     "name": "stdout",
     "output_type": "stream",
     "text": [
      "[[7199   18]\n",
      " [ 306   14]]\n",
      "              precision    recall  f1-score   support\n",
      "\n",
      "         0.0       0.96      1.00      0.98      7217\n",
      "         1.0       0.44      0.04      0.08       320\n",
      "\n",
      "    accuracy                           0.96      7537\n",
      "   macro avg       0.70      0.52      0.53      7537\n",
      "weighted avg       0.94      0.96      0.94      7537\n",
      "\n"
     ]
    }
   ],
   "source": [
    "from sklearn.ensemble import ExtraTreesClassifier\n",
    "from sklearn.datasets import make_classification\n",
    "clf = ExtraTreesClassifier(n_estimators=100, random_state=0)\n",
    "clf.fit(X_train, y_train)\n",
    "ExtraTreesClassifier(random_state=0)\n",
    "y_test_pred = clf.predict(X_test)\n",
    "print(confusion_matrix(y_test, y_test_pred))\n",
    "print(classification_report(y_test, y_test_pred))"
   ]
  },
  {
   "cell_type": "code",
   "execution_count": 85,
   "id": "66009f7c",
   "metadata": {},
   "outputs": [
    {
     "name": "stdout",
     "output_type": "stream",
     "text": [
      "[[7196   21]\n",
      " [ 148  172]]\n",
      "              precision    recall  f1-score   support\n",
      "\n",
      "         0.0       0.98      1.00      0.99      7217\n",
      "         1.0       0.89      0.54      0.67       320\n",
      "\n",
      "    accuracy                           0.98      7537\n",
      "   macro avg       0.94      0.77      0.83      7537\n",
      "weighted avg       0.98      0.98      0.97      7537\n",
      "\n"
     ]
    }
   ],
   "source": [
    "from sklearn.ensemble import GradientBoostingClassifier\n",
    "\n",
    "clf = GradientBoostingClassifier(random_state=0, learning_rate = 0.2, n_estimators = 3500).fit(X_train, y_train)\n",
    "y_test_pred = clf.predict(X_test)\n",
    "print(confusion_matrix(y_test, y_test_pred))\n",
    "print(classification_report(y_test, y_test_pred))"
   ]
  },
  {
   "cell_type": "code",
   "execution_count": 90,
   "id": "58054f16",
   "metadata": {},
   "outputs": [
    {
     "data": {
      "text/plain": [
       "0.0    12075\n",
       "1.0      299\n",
       "dtype: int64"
      ]
     },
     "execution_count": 90,
     "metadata": {},
     "output_type": "execute_result"
    }
   ],
   "source": [
    "grid_predictions = clf.predict(test1)\n",
    "pred=pd.DataFrame(grid_predictions, index = test.id)\n",
    "pred.value_counts()"
   ]
  },
  {
   "cell_type": "code",
   "execution_count": 91,
   "id": "57d8a99a",
   "metadata": {},
   "outputs": [],
   "source": [
    "import os\n",
    "os.chdir(r'../data')\n",
    "\n",
    "pred.to_csv(r\"submission_gb2.csv\")"
   ]
  },
  {
   "cell_type": "code",
   "execution_count": 86,
   "id": "7b6ca997",
   "metadata": {},
   "outputs": [
    {
     "name": "stdout",
     "output_type": "stream",
     "text": [
      "[[7203   14]\n",
      " [ 149  171]]\n",
      "              precision    recall  f1-score   support\n",
      "\n",
      "         0.0       0.98      1.00      0.99      7217\n",
      "         1.0       0.92      0.53      0.68       320\n",
      "\n",
      "    accuracy                           0.98      7537\n",
      "   macro avg       0.95      0.77      0.83      7537\n",
      "weighted avg       0.98      0.98      0.98      7537\n",
      "\n"
     ]
    }
   ],
   "source": [
    "from sklearn.ensemble import GradientBoostingClassifier\n",
    "\n",
    "clf1 = GradientBoostingClassifier(random_state=0, learning_rate = 0.2, n_estimators = 3500, min_samples_leaf = 9).fit(X_train, y_train)\n",
    "y_test_pred = clf1.predict(X_test)\n",
    "print(confusion_matrix(y_test, y_test_pred))\n",
    "print(classification_report(y_test, y_test_pred))"
   ]
  },
  {
   "cell_type": "code",
   "execution_count": 108,
   "id": "f1869a0d",
   "metadata": {},
   "outputs": [
    {
     "name": "stdout",
     "output_type": "stream",
     "text": [
      "[[7203   14]\n",
      " [ 152  168]]\n",
      "              precision    recall  f1-score   support\n",
      "\n",
      "         0.0       0.98      1.00      0.99      7217\n",
      "         1.0       0.92      0.53      0.67       320\n",
      "\n",
      "    accuracy                           0.98      7537\n",
      "   macro avg       0.95      0.76      0.83      7537\n",
      "weighted avg       0.98      0.98      0.98      7537\n",
      "\n"
     ]
    }
   ],
   "source": [
    "from sklearn.ensemble import GradientBoostingClassifier\n",
    "\n",
    "clf1 = GradientBoostingClassifier(random_state=0, n_estimators = 3500, min_samples_leaf = 8).fit(X_train, y_train)\n",
    "y_test_pred = clf1.predict(X_test)\n",
    "print(confusion_matrix(y_test, y_test_pred))\n",
    "print(classification_report(y_test, y_test_pred))"
   ]
  },
  {
   "cell_type": "code",
   "execution_count": 87,
   "id": "e6b0ea98",
   "metadata": {},
   "outputs": [
    {
     "data": {
      "text/plain": [
       "0.0    12085\n",
       "1.0      289\n",
       "dtype: int64"
      ]
     },
     "execution_count": 87,
     "metadata": {},
     "output_type": "execute_result"
    }
   ],
   "source": [
    "grid_predictions = clf1.predict(test1)\n",
    "pred=pd.DataFrame(grid_predictions, index = test.id)\n",
    "pred.value_counts()"
   ]
  },
  {
   "cell_type": "code",
   "execution_count": 88,
   "id": "458f07ff",
   "metadata": {},
   "outputs": [],
   "source": [
    "import os\n",
    "os.chdir(r'../data')\n",
    "\n",
    "pred.to_csv(r\"submission_gb1.csv\")"
   ]
  },
  {
   "cell_type": "code",
   "execution_count": 109,
   "id": "087dcf32",
   "metadata": {},
   "outputs": [
    {
     "name": "stdout",
     "output_type": "stream",
     "text": [
      "[[7213    4]\n",
      " [ 155  165]]\n",
      "              precision    recall  f1-score   support\n",
      "\n",
      "         0.0       0.98      1.00      0.99      7217\n",
      "         1.0       0.98      0.52      0.67       320\n",
      "\n",
      "    accuracy                           0.98      7537\n",
      "   macro avg       0.98      0.76      0.83      7537\n",
      "weighted avg       0.98      0.98      0.98      7537\n",
      "\n"
     ]
    }
   ],
   "source": [
    "from sklearn.ensemble import GradientBoostingClassifier\n",
    "\n",
    "clf = GradientBoostingClassifier(random_state=0, n_estimators = 600, min_samples_leaf = 8).fit(X_train, y_train)\n",
    "y_test_pred = clf.predict(X_test)\n",
    "print(confusion_matrix(y_test, y_test_pred))\n",
    "print(classification_report(y_test, y_test_pred))"
   ]
  },
  {
   "cell_type": "code",
   "execution_count": 110,
   "id": "2691b832",
   "metadata": {},
   "outputs": [
    {
     "data": {
      "text/plain": [
       "0.0    12122\n",
       "1.0      252\n",
       "dtype: int64"
      ]
     },
     "execution_count": 110,
     "metadata": {},
     "output_type": "execute_result"
    }
   ],
   "source": [
    "grid_predictions = clf.predict(test1)\n",
    "pred=pd.DataFrame(grid_predictions, index = test.id)\n",
    "pred.value_counts()"
   ]
  },
  {
   "cell_type": "code",
   "execution_count": 111,
   "id": "25d7ddb3",
   "metadata": {},
   "outputs": [],
   "source": [
    "import os\n",
    "os.chdir(r'../data')\n",
    "\n",
    "pred.to_csv(r\"submission_gb3.csv\")"
   ]
  },
  {
   "cell_type": "code",
   "execution_count": 107,
   "id": "d6d421eb",
   "metadata": {},
   "outputs": [
    {
     "name": "stdout",
     "output_type": "stream",
     "text": [
      "[[7209    8]\n",
      " [ 157  163]]\n",
      "              precision    recall  f1-score   support\n",
      "\n",
      "         0.0       0.98      1.00      0.99      7217\n",
      "         1.0       0.95      0.51      0.66       320\n",
      "\n",
      "    accuracy                           0.98      7537\n",
      "   macro avg       0.97      0.75      0.83      7537\n",
      "weighted avg       0.98      0.98      0.97      7537\n",
      "\n"
     ]
    }
   ],
   "source": [
    "from sklearn.ensemble import GradientBoostingClassifier\n",
    "\n",
    "clf = GradientBoostingClassifier(random_state=0, n_estimators = 600, min_samples_leaf = 8, max_depth = 5).fit(X_train, y_train)\n",
    "y_test_pred = clf.predict(X_test)\n",
    "print(confusion_matrix(y_test, y_test_pred))\n",
    "print(classification_report(y_test, y_test_pred))"
   ]
  },
  {
   "cell_type": "code",
   "execution_count": 90,
   "id": "7096c1b5",
   "metadata": {},
   "outputs": [
    {
     "name": "stdout",
     "output_type": "stream",
     "text": [
      "[[7213    4]\n",
      " [ 165  155]]\n",
      "              precision    recall  f1-score   support\n",
      "\n",
      "         0.0       0.98      1.00      0.99      7217\n",
      "         1.0       0.97      0.48      0.65       320\n",
      "\n",
      "    accuracy                           0.98      7537\n",
      "   macro avg       0.98      0.74      0.82      7537\n",
      "weighted avg       0.98      0.98      0.97      7537\n",
      "\n"
     ]
    }
   ],
   "source": [
    "from sklearn.ensemble import HistGradientBoostingClassifier\n",
    "from sklearn.datasets import load_iris\n",
    "clf = HistGradientBoostingClassifier().fit(X_train, y_train)\n",
    "y_test_pred = clf.predict(X_test)\n",
    "print(confusion_matrix(y_test, y_test_pred))\n",
    "print(classification_report(y_test, y_test_pred))"
   ]
  },
  {
   "cell_type": "code",
   "execution_count": 28,
   "id": "48b325c7",
   "metadata": {},
   "outputs": [
    {
     "name": "stdout",
     "output_type": "stream",
     "text": [
      "[[7212    5]\n",
      " [ 157  163]]\n",
      "              precision    recall  f1-score   support\n",
      "\n",
      "         0.0       0.98      1.00      0.99      7217\n",
      "         1.0       0.97      0.51      0.67       320\n",
      "\n",
      "    accuracy                           0.98      7537\n",
      "   macro avg       0.97      0.75      0.83      7537\n",
      "weighted avg       0.98      0.98      0.98      7537\n",
      "\n"
     ]
    }
   ],
   "source": [
    "from sklearn.ensemble import HistGradientBoostingClassifier\n",
    "from sklearn.datasets import load_iris\n",
    "clf = HistGradientBoostingClassifier(random_state=252, l2_regularization = 0.1).fit(X_train, y_train)\n",
    "y_test_pred = clf.predict(X_test)\n",
    "print(confusion_matrix(y_test, y_test_pred))\n",
    "print(classification_report(y_test, y_test_pred))"
   ]
  },
  {
   "cell_type": "code",
   "execution_count": 34,
   "id": "3fed8518",
   "metadata": {},
   "outputs": [],
   "source": [
    "import numpy as np\n",
    "from sklearn.linear_model import LogisticRegression\n",
    "from sklearn.naive_bayes import GaussianNB\n",
    "from sklearn.ensemble import RandomForestClassifier, VotingClassifier\n",
    "clf1 = LogisticRegression(n_jobs = -1, random_state=0, max_iter = 1, solver = 'saga')\n",
    "clf2 = RandomForestClassifier(n_estimators=25, random_state=0, bootstrap = False)\n",
    "clf3 = GaussianNB()\n",
    "eclf1 = VotingClassifier(estimators=[('lr', clf1), ('rf', clf2), ('gnb', clf3)], voting='hard')\n",
    "eclf1 = eclf1.fit(X_train, y_train)\n",
    "\n",
    "eclf2 = VotingClassifier(estimators=[('lr', clf1), ('rf', clf2), ('gnb', clf3)],voting='soft')\n",
    "eclf2 = eclf2.fit(X_train, y_train)\n",
    "\n",
    "eclf3 = VotingClassifier(estimators=[('lr', clf1), ('rf', clf2), ('gnb', clf3)],voting='soft', weights=[2,1,1],flatten_transform=True)\n",
    "eclf3 = eclf3.fit(X_train, y_train)"
   ]
  },
  {
   "cell_type": "code",
   "execution_count": 295,
   "id": "8f6f792b",
   "metadata": {},
   "outputs": [
    {
     "name": "stdout",
     "output_type": "stream",
     "text": [
      "[[7154   63]\n",
      " [ 176  144]]\n",
      "              precision    recall  f1-score   support\n",
      "\n",
      "         0.0       0.98      0.99      0.98      7217\n",
      "         1.0       0.70      0.45      0.55       320\n",
      "\n",
      "    accuracy                           0.97      7537\n",
      "   macro avg       0.84      0.72      0.77      7537\n",
      "weighted avg       0.96      0.97      0.97      7537\n",
      "\n"
     ]
    }
   ],
   "source": [
    "y_test_pred = eclf2.predict(X_test)\n",
    "print(confusion_matrix(y_test, y_test_pred))\n",
    "print(classification_report(y_test, y_test_pred))"
   ]
  },
  {
   "cell_type": "code",
   "execution_count": 245,
   "id": "1d37870f",
   "metadata": {},
   "outputs": [
    {
     "data": {
      "text/plain": [
       "0.0    12029\n",
       "1.0      345\n",
       "dtype: int64"
      ]
     },
     "execution_count": 245,
     "metadata": {},
     "output_type": "execute_result"
    }
   ],
   "source": [
    "grid_predictions = eclf2.predict(test1)\n",
    "pred=pd.DataFrame(grid_predictions, index = test.id)\n",
    "pred.value_counts()"
   ]
  },
  {
   "cell_type": "code",
   "execution_count": 246,
   "id": "472ff372",
   "metadata": {},
   "outputs": [],
   "source": [
    "import os\n",
    "os.chdir(r'../data')\n",
    "\n",
    "pred.to_csv(r\"submission_vot.csv\")"
   ]
  },
  {
   "cell_type": "code",
   "execution_count": 301,
   "id": "8b92d3d7",
   "metadata": {},
   "outputs": [
    {
     "name": "stdout",
     "output_type": "stream",
     "text": [
      "[[7198   19]\n",
      " [ 209  111]]\n",
      "              precision    recall  f1-score   support\n",
      "\n",
      "         0.0       0.97      1.00      0.98      7217\n",
      "         1.0       0.85      0.35      0.49       320\n",
      "\n",
      "    accuracy                           0.97      7537\n",
      "   macro avg       0.91      0.67      0.74      7537\n",
      "weighted avg       0.97      0.97      0.96      7537\n",
      "\n"
     ]
    }
   ],
   "source": [
    "from sklearn.multiclass import OutputCodeClassifier\n",
    "from sklearn.ensemble import RandomForestClassifier\n",
    "from sklearn.datasets import make_classification\n",
    "clf = OutputCodeClassifier(estimator=RandomForestClassifier(n_estimators=25, random_state=0, bootstrap = False)).fit(X_train, y_train)\n",
    "y_test_pred = clf.predict(X_test)\n",
    "print(confusion_matrix(y_test, y_test_pred))\n",
    "print(classification_report(y_test, y_test_pred))"
   ]
  },
  {
   "cell_type": "markdown",
   "id": "d58ba569",
   "metadata": {},
   "source": [
    "### XGBoost"
   ]
  },
  {
   "cell_type": "code",
   "execution_count": 24,
   "id": "1899a506",
   "metadata": {},
   "outputs": [],
   "source": [
    "import xgboost as xgb\n",
    "from sklearn.model_selection import cross_val_score\n",
    "from sklearn.tree import DecisionTreeClassifier\n",
    "from sklearn.metrics import confusion_matrix\n",
    "from sklearn.metrics import classification_report"
   ]
  },
  {
   "cell_type": "code",
   "execution_count": 22,
   "id": "23acf18a",
   "metadata": {},
   "outputs": [],
   "source": [
    "xg = xgb.XGBClassifier(verbosity=0, colsample_bytree = 0.9, use_label_encoder=False, n_estimators = 175, \n",
    "                      scale_pos_weight = 75).fit(X_train, y_train)"
   ]
  },
  {
   "cell_type": "code",
   "execution_count": 22,
   "id": "d5d5ee24",
   "metadata": {},
   "outputs": [
    {
     "name": "stdout",
     "output_type": "stream",
     "text": [
      "[[7180   37]\n",
      " [ 111  209]]\n",
      "              precision    recall  f1-score   support\n",
      "\n",
      "         0.0       0.98      0.99      0.99      7217\n",
      "         1.0       0.85      0.65      0.74       320\n",
      "\n",
      "    accuracy                           0.98      7537\n",
      "   macro avg       0.92      0.82      0.86      7537\n",
      "weighted avg       0.98      0.98      0.98      7537\n",
      "\n"
     ]
    }
   ],
   "source": [
    "y_test_pred = xg.predict(X_test)\n",
    "print(confusion_matrix(y_test, y_test_pred))\n",
    "print(classification_report(y_test, y_test_pred))"
   ]
  },
  {
   "cell_type": "code",
   "execution_count": 366,
   "id": "f617e715",
   "metadata": {},
   "outputs": [
    {
     "data": {
      "text/plain": [
       "0    11993\n",
       "1      381\n",
       "dtype: int64"
      ]
     },
     "execution_count": 366,
     "metadata": {},
     "output_type": "execute_result"
    }
   ],
   "source": [
    "grid_predictions = xg.predict(test1)\n",
    "pred=pd.DataFrame(grid_predictions, index = test.id)\n",
    "pred.value_counts()"
   ]
  },
  {
   "cell_type": "code",
   "execution_count": 367,
   "id": "5c7ba752",
   "metadata": {},
   "outputs": [],
   "source": [
    "import os\n",
    "os.chdir(r'../data')\n",
    "\n",
    "pred.to_csv(r\"submission_xgb.csv\")"
   ]
  },
  {
   "cell_type": "code",
   "execution_count": null,
   "id": "89374b6b",
   "metadata": {},
   "outputs": [],
   "source": []
  }
 ],
 "metadata": {
  "kernelspec": {
   "display_name": "Python 3 (ipykernel)",
   "language": "python",
   "name": "python3"
  },
  "language_info": {
   "codemirror_mode": {
    "name": "ipython",
    "version": 3
   },
   "file_extension": ".py",
   "mimetype": "text/x-python",
   "name": "python",
   "nbconvert_exporter": "python",
   "pygments_lexer": "ipython3",
   "version": "3.9.5"
  }
 },
 "nbformat": 4,
 "nbformat_minor": 5
}
